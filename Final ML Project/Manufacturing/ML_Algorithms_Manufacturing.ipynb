{
  "cells": [
    {
      "cell_type": "code",
      "execution_count": 169,
      "metadata": {
        "id": "0Gv6H5OYzqkm"
      },
      "outputs": [],
      "source": [
        "# Spark init\n",
        "!wget -q https://dlcdn.apache.org/spark/spark-3.1.2/spark-3.1.2-bin-hadoop2.7.tgz \n",
        "!tar xf spark-3.1.2-bin-hadoop2.7.tgz\n",
        "import os\n",
        "os.environ[\"JAVA_HOME\"] = \"/usr/lib/jvm/default-java\"\n",
        "os.environ[\"SPARK_HOME\"] = \"/content/spark-3.1.2-bin-hadoop2.7\"\n",
        "!pip install -q findspark\n",
        "import findspark\n",
        "findspark.init()\n",
        "\n",
        "from pyspark.sql import SparkSession\n",
        "spark = SparkSession.builder\\\n",
        "        .master(\"local\")\\\n",
        "        .appName(\"Colab\")\\\n",
        "        .config('spark.ui.port', '4050')\\\n",
        "        .getOrCreate()"
      ]
    },
    {
      "cell_type": "code",
      "source": [
        "from google.colab import drive\n",
        "drive.mount('/content/drive')"
      ],
      "metadata": {
        "colab": {
          "base_uri": "https://localhost:8080/"
        },
        "id": "GrguJGUUQnO0",
        "outputId": "c9918d5a-9763-4cfc-b57d-76f4bc518dab"
      },
      "execution_count": 170,
      "outputs": [
        {
          "output_type": "stream",
          "name": "stdout",
          "text": [
            "Drive already mounted at /content/drive; to attempt to forcibly remount, call drive.mount(\"/content/drive\", force_remount=True).\n"
          ]
        }
      ]
    },
    {
      "cell_type": "code",
      "execution_count": 171,
      "metadata": {
        "id": "s0mQQjKlzsBM"
      },
      "outputs": [],
      "source": [
        "import pyspark\n",
        "from pyspark.sql.types import StructField\n",
        "from pyspark.sql.types import *\n",
        "\n",
        "custom_schema = StructType([\n",
        "        StructField(\"Date\", StringType(), True),\n",
        "        StructField(\"Open\", FloatType(), True),\n",
        "        StructField(\"High\", FloatType(), True),\n",
        "        StructField(\"Low\", FloatType(), True), \n",
        "        StructField(\"Close\", FloatType(), True),\n",
        "        StructField(\"Negativity\", FloatType(), True),\n",
        "        StructField(\"Positivity\", FloatType(), True)\n",
        "    ])"
      ]
    },
    {
      "cell_type": "code",
      "execution_count": 172,
      "metadata": {
        "id": "8vRolt_rztZr"
      },
      "outputs": [],
      "source": [
        "df = spark.read.csv(\"/content/drive/MyDrive/data/Manufacturing_Industry_consolidated.csv\", sep=',', schema = custom_schema, header=True)"
      ]
    },
    {
      "cell_type": "code",
      "source": [
        "df = df.dropna()\n",
        "df.show()"
      ],
      "metadata": {
        "colab": {
          "base_uri": "https://localhost:8080/"
        },
        "id": "7ovzvZNNtDbP",
        "outputId": "ba03bccd-12fe-4f13-a02e-9b6fcce1d469"
      },
      "execution_count": 173,
      "outputs": [
        {
          "output_type": "stream",
          "name": "stdout",
          "text": [
            "+----------+----+----+----+-----+----------+----------+\n",
            "|      Date|Open|High| Low|Close|Negativity|Positivity|\n",
            "+----------+----+----+----+-----+----------+----------+\n",
            "|04/02/2020|54.8|54.9|54.8| 54.8|      15.7|      15.3|\n",
            "|04/03/2020|56.2|56.2|56.2| 56.2|      15.7|      15.5|\n",
            "|04/06/2020|58.5|58.6|58.5| 58.5|      12.0|      11.7|\n",
            "|04/07/2020|59.2|59.3|59.2| 59.2|      12.5|      15.8|\n",
            "|04/08/2020|59.4|59.4|59.3| 59.4|      15.7|      15.5|\n",
            "|04/09/2020|60.3|60.3|60.2| 60.3|      13.4|      16.5|\n",
            "|04/13/2020|59.9|59.9|59.8| 59.9|      14.1|      14.5|\n",
            "|04/14/2020|64.1|64.1|64.0| 64.1|      12.0|      14.8|\n",
            "|04/15/2020|62.2|62.3|62.2| 62.2|      12.8|      18.4|\n",
            "|04/16/2020|60.5|60.6|60.5| 60.5|      21.1|      21.7|\n",
            "|04/17/2020|61.1|61.2|61.1| 61.1|      22.7|      33.2|\n",
            "|04/20/2020|61.9|62.0|61.9| 61.9|      10.9|      12.0|\n",
            "|04/21/2020|60.4|60.4|60.4| 60.4|      12.3|      16.9|\n",
            "|04/22/2020|59.7|59.7|59.6| 59.7|      14.3|      15.5|\n",
            "|04/23/2020|59.3|59.3|59.2| 59.3|      11.4|      14.3|\n",
            "|04/24/2020|58.6|58.6|58.5| 58.6|      11.8|      16.7|\n",
            "|04/27/2020|59.2|59.2|59.2| 59.2|       9.1|      10.5|\n",
            "|04/28/2020|61.3|61.3|61.3| 61.3|      13.6|      13.5|\n",
            "|04/29/2020|63.1|63.2|63.1| 63.1|      12.2|      14.7|\n",
            "|04/30/2020|62.9|62.9|62.9| 62.9|      12.7|      17.6|\n",
            "+----------+----+----+----+-----+----------+----------+\n",
            "only showing top 20 rows\n",
            "\n"
          ]
        }
      ]
    },
    {
      "cell_type": "code",
      "source": [
        "from pyspark.ml.linalg import Vector  \n",
        "from pyspark.ml.feature import VectorAssembler"
      ],
      "metadata": {
        "id": "TBSKO2SguTex"
      },
      "execution_count": 174,
      "outputs": []
    },
    {
      "cell_type": "code",
      "source": [
        "vector_assmebler=VectorAssembler(inputCols=['Negativity', 'Positivity'] \n",
        "                                ,outputCol='features')\n",
        "df_transformed=vector_assmebler.transform(df)\n",
        "\n",
        "df_transformed.show()"
      ],
      "metadata": {
        "colab": {
          "base_uri": "https://localhost:8080/"
        },
        "id": "XXQ-FcW2uWwh",
        "outputId": "e4249b8e-5f88-4499-a6f4-c38aaf7934d2"
      },
      "execution_count": 175,
      "outputs": [
        {
          "output_type": "stream",
          "name": "stdout",
          "text": [
            "+----------+----+----+----+-----+----------+----------+--------------------+\n",
            "|      Date|Open|High| Low|Close|Negativity|Positivity|            features|\n",
            "+----------+----+----+----+-----+----------+----------+--------------------+\n",
            "|04/02/2020|54.8|54.9|54.8| 54.8|      15.7|      15.3|[15.6999998092651...|\n",
            "|04/03/2020|56.2|56.2|56.2| 56.2|      15.7|      15.5|[15.6999998092651...|\n",
            "|04/06/2020|58.5|58.6|58.5| 58.5|      12.0|      11.7|[12.0,11.69999980...|\n",
            "|04/07/2020|59.2|59.3|59.2| 59.2|      12.5|      15.8|[12.5,15.80000019...|\n",
            "|04/08/2020|59.4|59.4|59.3| 59.4|      15.7|      15.5|[15.6999998092651...|\n",
            "|04/09/2020|60.3|60.3|60.2| 60.3|      13.4|      16.5|[13.3999996185302...|\n",
            "|04/13/2020|59.9|59.9|59.8| 59.9|      14.1|      14.5|[14.1000003814697...|\n",
            "|04/14/2020|64.1|64.1|64.0| 64.1|      12.0|      14.8|[12.0,14.80000019...|\n",
            "|04/15/2020|62.2|62.3|62.2| 62.2|      12.8|      18.4|[12.8000001907348...|\n",
            "|04/16/2020|60.5|60.6|60.5| 60.5|      21.1|      21.7|[21.1000003814697...|\n",
            "|04/17/2020|61.1|61.2|61.1| 61.1|      22.7|      33.2|[22.7000007629394...|\n",
            "|04/20/2020|61.9|62.0|61.9| 61.9|      10.9|      12.0|[10.8999996185302...|\n",
            "|04/21/2020|60.4|60.4|60.4| 60.4|      12.3|      16.9|[12.3000001907348...|\n",
            "|04/22/2020|59.7|59.7|59.6| 59.7|      14.3|      15.5|[14.3000001907348...|\n",
            "|04/23/2020|59.3|59.3|59.2| 59.3|      11.4|      14.3|[11.3999996185302...|\n",
            "|04/24/2020|58.6|58.6|58.5| 58.6|      11.8|      16.7|[11.8000001907348...|\n",
            "|04/27/2020|59.2|59.2|59.2| 59.2|       9.1|      10.5|[9.10000038146972...|\n",
            "|04/28/2020|61.3|61.3|61.3| 61.3|      13.6|      13.5|[13.6000003814697...|\n",
            "|04/29/2020|63.1|63.2|63.1| 63.1|      12.2|      14.7|[12.1999998092651...|\n",
            "|04/30/2020|62.9|62.9|62.9| 62.9|      12.7|      17.6|[12.6999998092651...|\n",
            "+----------+----+----+----+-----+----------+----------+--------------------+\n",
            "only showing top 20 rows\n",
            "\n"
          ]
        }
      ]
    },
    {
      "cell_type": "code",
      "source": [
        "df_neg_model=df_transformed.select('features','Close')\n",
        "df_neg_model.show( truncate= False)"
      ],
      "metadata": {
        "colab": {
          "base_uri": "https://localhost:8080/"
        },
        "id": "PhNnBbGCu3x_",
        "outputId": "9debb72b-1ef2-425c-c4aa-7c461d6f0e3d"
      },
      "execution_count": 176,
      "outputs": [
        {
          "output_type": "stream",
          "name": "stdout",
          "text": [
            "+---------------------------------------+-----+\n",
            "|features                               |Close|\n",
            "+---------------------------------------+-----+\n",
            "|[15.699999809265137,15.300000190734863]|54.8 |\n",
            "|[15.699999809265137,15.5]              |56.2 |\n",
            "|[12.0,11.699999809265137]              |58.5 |\n",
            "|[12.5,15.800000190734863]              |59.2 |\n",
            "|[15.699999809265137,15.5]              |59.4 |\n",
            "|[13.399999618530273,16.5]              |60.3 |\n",
            "|[14.100000381469727,14.5]              |59.9 |\n",
            "|[12.0,14.800000190734863]              |64.1 |\n",
            "|[12.800000190734863,18.399999618530273]|62.2 |\n",
            "|[21.100000381469727,21.700000762939453]|60.5 |\n",
            "|[22.700000762939453,33.20000076293945] |61.1 |\n",
            "|[10.899999618530273,12.0]              |61.9 |\n",
            "|[12.300000190734863,16.899999618530273]|60.4 |\n",
            "|[14.300000190734863,15.5]              |59.7 |\n",
            "|[11.399999618530273,14.300000190734863]|59.3 |\n",
            "|[11.800000190734863,16.700000762939453]|58.6 |\n",
            "|[9.100000381469727,10.5]               |59.2 |\n",
            "|[13.600000381469727,13.5]              |61.3 |\n",
            "|[12.199999809265137,14.699999809265137]|63.1 |\n",
            "|[12.699999809265137,17.600000381469727]|62.9 |\n",
            "+---------------------------------------+-----+\n",
            "only showing top 20 rows\n",
            "\n"
          ]
        }
      ]
    },
    {
      "cell_type": "code",
      "source": [
        "(training, test) = df_neg_model.randomSplit([0.8, 0.2], seed = 1234)\n",
        "print (training.first())"
      ],
      "metadata": {
        "colab": {
          "base_uri": "https://localhost:8080/"
        },
        "id": "F0U0UuxJvDGy",
        "outputId": "de060b65-8973-49ad-efd3-e9073b564ed0"
      },
      "execution_count": 177,
      "outputs": [
        {
          "output_type": "stream",
          "name": "stdout",
          "text": [
            "Row(features=DenseVector([3.7, 7.9]), Close=108.5)\n"
          ]
        }
      ]
    },
    {
      "cell_type": "code",
      "source": [
        "#Linear regression model\n",
        "from pyspark.ml.regression import LinearRegression\n",
        "Linear_Regression=LinearRegression(labelCol='Close')\n",
        "regression = Linear_Regression.fit(training)"
      ],
      "metadata": {
        "id": "5xLWuoB7vH9x"
      },
      "execution_count": 178,
      "outputs": []
    },
    {
      "cell_type": "code",
      "source": [
        "print(f\"intercept: {regression.intercept}\")\n",
        "print(f\"coefficiencts: {regression.coefficients}\")"
      ],
      "metadata": {
        "colab": {
          "base_uri": "https://localhost:8080/"
        },
        "id": "OrcQBeclvKWn",
        "outputId": "0a480e84-cd95-4699-94f1-b4c87b1b4f93"
      },
      "execution_count": 179,
      "outputs": [
        {
          "output_type": "stream",
          "name": "stdout",
          "text": [
            "intercept: 102.72730198947187\n",
            "coefficiencts: [-1.7140186666955828,0.41044576882241146]\n"
          ]
        }
      ]
    },
    {
      "cell_type": "code",
      "source": [
        "training_predictions=regression.evaluate(training)\n",
        "\n",
        "print(\"Training R squared:\", training_predictions.r2)"
      ],
      "metadata": {
        "colab": {
          "base_uri": "https://localhost:8080/"
        },
        "id": "YnU-eEuWvWAJ",
        "outputId": "45f6586b-a0e9-46e8-a26e-42cccc4f6505"
      },
      "execution_count": 180,
      "outputs": [
        {
          "output_type": "stream",
          "name": "stdout",
          "text": [
            "Training R squared: 0.0340722098977283\n"
          ]
        }
      ]
    },
    {
      "cell_type": "code",
      "source": [
        "test_prediction  = regression.evaluate(test)"
      ],
      "metadata": {
        "id": "eLkX-iRpvXmE"
      },
      "execution_count": 181,
      "outputs": []
    },
    {
      "cell_type": "code",
      "source": [
        "print(\"Testing MSE: \", test_prediction.meanSquaredError)\n",
        "print(\"Root Mean Square Error (RMSE) using Linear Regression: \", test_prediction.rootMeanSquaredError)"
      ],
      "metadata": {
        "colab": {
          "base_uri": "https://localhost:8080/"
        },
        "id": "mb64ASUJvZdq",
        "outputId": "c716fa7e-7a05-42b9-d3f0-ac503ed94dfe"
      },
      "execution_count": 182,
      "outputs": [
        {
          "output_type": "stream",
          "name": "stdout",
          "text": [
            "Testing MSE:  465.2644826021804\n",
            "Root Mean Square Error (RMSE) using Linear Regression:  21.569990324573176\n"
          ]
        }
      ]
    },
    {
      "cell_type": "code",
      "source": [
        "#Predictions \n",
        "df_prediction = test_prediction.predictions\n",
        "df_prediction.orderBy('prediction',ascending=False).show(10, truncate = False)"
      ],
      "metadata": {
        "colab": {
          "base_uri": "https://localhost:8080/"
        },
        "id": "uQmnJo2svbHU",
        "outputId": "7c83bca3-56e6-4506-fe5c-1a74279a9e78"
      },
      "execution_count": 183,
      "outputs": [
        {
          "output_type": "stream",
          "name": "stdout",
          "text": [
            "+--------------------------------------+-----+-----------------+\n",
            "|features                              |Close|prediction       |\n",
            "+--------------------------------------+-----+-----------------+\n",
            "|[4.699999809265137,8.699999809265137] |105.5|98.2422926933944 |\n",
            "|[5.900000095367432,7.599999904632568] |86.8 |95.73397949641354|\n",
            "|[7.699999809265137,11.5]              |100.5|94.24948492429672|\n",
            "|[9.800000190734863,19.100000381469727]|135.8|93.76943307001274|\n",
            "|[8.0,10.0]                            |71.2 |93.11961034413132|\n",
            "|[9.199999809265137,14.800000190734863]|46.2 |93.03292803965363|\n",
            "|[8.0,9.699999809265137]               |138.8|92.99647653519828|\n",
            "|[9.0,13.699999809265137]              |88.0 |92.92424094379234|\n",
            "|[9.0,13.399999618530273]              |99.7 |92.80110713485931|\n",
            "|[11.0,21.5]                           |99.3 |92.6976806855023 |\n",
            "+--------------------------------------+-----+-----------------+\n",
            "only showing top 10 rows\n",
            "\n"
          ]
        }
      ]
    },
    {
      "cell_type": "code",
      "source": [
        "from pyspark.ml.regression import DecisionTreeRegressor\n",
        "from pyspark.ml.evaluation import RegressionEvaluator\n",
        "dt = DecisionTreeRegressor(featuresCol ='features', labelCol = 'Close')\n",
        "dt_model = dt.fit(training)\n",
        "dt_predictions = dt_model.transform(test)\n",
        "dt_evaluator = RegressionEvaluator(labelCol=\"Close\", predictionCol=\"prediction\", metricName=\"rmse\")\n",
        "rmse = dt_evaluator.evaluate(dt_predictions)\n",
        "print(\"Root Mean Squared Error (RMSE) using Decision Tree Model = %g\" % rmse)"
      ],
      "metadata": {
        "colab": {
          "base_uri": "https://localhost:8080/"
        },
        "id": "WEzs_KgK2SuI",
        "outputId": "53039fb5-eb37-4571-96ba-c3093089de17"
      },
      "execution_count": 184,
      "outputs": [
        {
          "output_type": "stream",
          "name": "stdout",
          "text": [
            "Root Mean Squared Error (RMSE) using Decision Tree Model = 23.4461\n"
          ]
        }
      ]
    },
    {
      "cell_type": "code",
      "source": [
        "from pyspark.ml.regression import GBTRegressor\n",
        "gbt = GBTRegressor(featuresCol = 'features', labelCol = 'Close', maxIter=10)\n",
        "gbt_model = gbt.fit(training)\n",
        "gbt_predictions = gbt_model.transform(test)\n",
        "gbt_predictions.select('prediction', 'Close', 'features').show(5)"
      ],
      "metadata": {
        "colab": {
          "base_uri": "https://localhost:8080/"
        },
        "id": "F8fdHIkx3D6Z",
        "outputId": "1478e894-2fe3-4e7f-ac8e-c9b95e2deee5"
      },
      "execution_count": 186,
      "outputs": [
        {
          "output_type": "stream",
          "name": "stdout",
          "text": [
            "+------------------+-----+--------------------+\n",
            "|        prediction|Close|            features|\n",
            "+------------------+-----+--------------------+\n",
            "| 93.83487936201642|105.5|[4.69999980926513...|\n",
            "| 93.83487936201642| 86.8|[5.90000009536743...|\n",
            "| 77.61572639544791|100.5|[7.69999980926513...|\n",
            "| 93.10887762251447|108.6|[8.0,8.3999996185...|\n",
            "|101.69677964351654|138.8|[8.0,9.6999998092...|\n",
            "+------------------+-----+--------------------+\n",
            "only showing top 5 rows\n",
            "\n"
          ]
        }
      ]
    },
    {
      "cell_type": "code",
      "source": [
        "gbt_evaluator = RegressionEvaluator(\n",
        "    labelCol=\"Close\", predictionCol=\"prediction\", metricName=\"rmse\")\n",
        "rmse = gbt_evaluator.evaluate(gbt_predictions)\n",
        "print(\"Root Mean Squared Error (RMSE) using Gradient Booting Decision Tree model = %g\" % rmse)"
      ],
      "metadata": {
        "colab": {
          "base_uri": "https://localhost:8080/"
        },
        "id": "qUsDNyC83HwB",
        "outputId": "74b8d74f-dfb9-46cf-8909-ee8cb10fdf02"
      },
      "execution_count": 187,
      "outputs": [
        {
          "output_type": "stream",
          "name": "stdout",
          "text": [
            "Root Mean Squared Error (RMSE) using Gradient Booting Decision Tree model = 23.82\n"
          ]
        }
      ]
    }
  ],
  "metadata": {
    "colab": {
      "name": "ML_Algorithms_Manufacturing.ipynb",
      "provenance": [],
      "collapsed_sections": []
    },
    "kernelspec": {
      "display_name": "Python 3",
      "name": "python3"
    },
    "language_info": {
      "name": "python"
    }
  },
  "nbformat": 4,
  "nbformat_minor": 0
}