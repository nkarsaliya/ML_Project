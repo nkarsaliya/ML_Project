{
  "nbformat": 4,
  "nbformat_minor": 0,
  "metadata": {
    "colab": {
      "name": "ML_SentiPrices.ipynb",
      "provenance": [],
      "collapsed_sections": []
    },
    "kernelspec": {
      "name": "python3",
      "display_name": "Python 3"
    },
    "language_info": {
      "name": "python"
    }
  },
  "cells": [
    {
      "cell_type": "code",
      "source": [
        "!wget -q https://dlcdn.apache.org/spark/spark-3.1.2/spark-3.1.2-bin-hadoop2.7.tgz \n",
        "!tar xf spark-3.1.2-bin-hadoop2.7.tgz\n",
        "import os\n",
        "os.environ[\"JAVA_HOME\"] = \"/usr/lib/jvm/default-java\"\n",
        "os.environ[\"SPARK_HOME\"] = \"/content/spark-3.1.2-bin-hadoop2.7\"\n",
        "!pip install -q findspark\n",
        "import findspark\n",
        "findspark.init()"
      ],
      "metadata": {
        "id": "ukxCVsgiccSX"
      },
      "execution_count": 16,
      "outputs": []
    },
    {
      "cell_type": "code",
      "source": [
        "import findspark\n",
        "findspark.init()\n",
        "findspark.find()\n",
        "import pyspark\n",
        "from pyspark.sql import *\n",
        "from pyspark.sql.functions import length, col\n",
        "from pyspark import SparkContext\n",
        "sc = SparkContext.getOrCreate()\n",
        "sql = SQLContext(sc)\n"
      ],
      "metadata": {
        "id": "btIiqjuSceSg"
      },
      "execution_count": 17,
      "outputs": []
    },
    {
      "cell_type": "code",
      "source": [
        "import numpy as np\n",
        "import pandas as pd\n",
        "import pyspark.ml as ml\n",
        "from functools import reduce\n",
        "import pandas_datareader as pdr\n",
        "import matplotlib.pyplot as plt\n",
        "from pyspark.sql.types import *\n",
        "from pyspark.ml.feature import *\n",
        "from pyspark.sql.functions import *\n",
        "from pyspark.sql.window import Window\n",
        "from pyspark.ml.linalg import Vectors\n",
        "from pyspark.ml.stat import Correlation\n",
        "from pyspark.ml.tuning import CrossValidator, ParamGridBuilder\n",
        "from pyspark.mllib.evaluation import  BinaryClassificationMetrics,MulticlassMetrics\n",
        "from pyspark.ml.classification import LogisticRegression, RandomForestClassifier, GBTClassifier\n",
        "from pyspark.ml.evaluation import BinaryClassificationEvaluator, MulticlassClassificationEvaluator"
      ],
      "metadata": {
        "id": "mbq5GKVccXZm"
      },
      "execution_count": 18,
      "outputs": []
    },
    {
      "cell_type": "code",
      "source": [
        "import pyspark\n",
        "from pyspark.sql.types import StructField\n",
        "from pyspark.sql.types import *\n",
        "\n",
        "custom_schema = StructType([\n",
        "        StructField(\"date\", StringType(), True),\n",
        "        StructField(\"Open\", FloatType(), True),\n",
        "        StructField(\"High\", FloatType(), True),\n",
        "        StructField(\"Low\", FloatType(), True),\n",
        "        StructField(\"Close\", FloatType(), True),\n",
        "    ])"
      ],
      "metadata": {
        "id": "dmAq7zGAiMpa"
      },
      "execution_count": 75,
      "outputs": []
    },
    {
      "cell_type": "code",
      "source": [
        "from pyspark.sql import SparkSession\n",
        "spark = SparkSession.builder\\\n",
        "        .master(\"local\")\\\n",
        "        .appName(\"Colab\")\\\n",
        "        .config('spark.ui.port', '4050')\\\n",
        "        .getOrCreate()"
      ],
      "metadata": {
        "id": "ZqlPDYzSTjz0"
      },
      "execution_count": 27,
      "outputs": []
    },
    {
      "cell_type": "code",
      "source": [
        "# Financial Data\n",
        "manufacturing_stock = spark.read.csv(\"/content/drive/MyDrive/data/Manufacturing_avg_prices.csv\", sep=',',schema= custom_schema, header=True)\n",
        "\n",
        "# News sentement data\n",
        "sentiment_news = spark.read.csv(\"/content/drive/MyDrive/data/full_score.csv\", sep=',', header=True)\n",
        "\n",
        "# Join two dataframes\n",
        "manufacturing_df = manufacturing_stock.join(sentiment_news,\"date\")"
      ],
      "metadata": {
        "id": "nd4FxnX-cSYr"
      },
      "execution_count": 76,
      "outputs": []
    },
    {
      "cell_type": "code",
      "source": [
        "manufacturing_df =manufacturing_df.dropna()"
      ],
      "metadata": {
        "id": "1_b32G7TcSbl"
      },
      "execution_count": 77,
      "outputs": []
    },
    {
      "cell_type": "code",
      "source": [
        "manufacturing_df.show()"
      ],
      "metadata": {
        "colab": {
          "base_uri": "https://localhost:8080/"
        },
        "id": "eYa966DnjkkM",
        "outputId": "4165eb0a-b65c-4db3-9275-0c07fbf07025"
      },
      "execution_count": 78,
      "outputs": [
        {
          "output_type": "stream",
          "name": "stdout",
          "text": [
            "+----------+----+----+----+-----+---+--------------------+--------------------+----------+----------+\n",
            "|      date|Open|High| Low|Close|_c0|            headline|             snippet|positivity|negativity|\n",
            "+----------+----+----+----+-----+---+--------------------+--------------------+----------+----------+\n",
            "|2020-04-02|54.8|54.9|54.8| 54.8| 75|Gerald Freedman, ...|Among his credits...|     0.211|       0.0|\n",
            "|2020-04-02|54.8|54.9|54.8| 54.8| 76|Review: In Apple’...|Brooklynn Prince ...|     0.069|       0.0|\n",
            "|2020-04-03|56.2|56.2|56.2| 56.2| 77|Crisis Gives Fake...|Police impersonat...|     0.068|     0.155|\n",
            "|2020-04-07|59.2|59.3|59.2| 59.2| 79|Trump Ousts Pande...|The official had ...|     0.148|       0.0|\n",
            "|2020-04-08|59.4|59.4|59.3| 59.4| 80|What’s on TV Wedn...|“Parasite” hits H...|       0.0|       0.0|\n",
            "|2020-04-09|60.3|60.3|60.2| 60.3| 81|In Britain, Summe...|The losses of Wim...|       0.0|     0.101|\n",
            "|2020-04-13|59.9|59.9|59.8| 59.9| 85|    What Is a Tribe?|Human culture as ...|       0.0|       0.0|\n",
            "|2020-04-16|60.5|60.6|60.5| 60.5| 86|Virginia Nursing ...|“You can’t fight ...|       0.0|     0.228|\n",
            "|2020-04-16|60.5|60.6|60.5| 60.5| 87|You Can’t Go Anyw...|Property owners a...|      0.04|      0.14|\n",
            "|2020-04-16|60.5|60.6|60.5| 60.5| 88|Biden Is Losing t...|The coronavirus h...|       0.0|     0.254|\n",
            "|2020-04-17|61.1|61.2|61.1| 61.1| 89|When Do Babies Ro...|Most parents trac...|       0.0|     0.141|\n",
            "|2020-04-17|61.1|61.2|61.1| 61.1| 90|Broken Bananas, ‘...|NYT Parenting rea...|     0.412|       0.0|\n",
            "|2020-04-17|61.1|61.2|61.1| 61.1| 91|When the Grandpar...|Grandparents can ...|     0.281|       0.0|\n",
            "|2020-04-21|60.4|60.4|60.4| 60.4| 93|U.S. Orders Chevr...|The latest on sto...|       0.0|       0.0|\n",
            "|2020-04-21|60.4|60.4|60.4| 60.4| 94|The Supreme Court...|In normal times, ...|     0.204|     0.115|\n",
            "|2020-04-23|59.3|59.3|59.2| 59.3| 95|More Than 4 Milli...|The latest on sto...|       0.0|       0.0|\n",
            "|2020-04-28|61.3|61.3|61.3| 61.3| 96|The Marine Corps ...|Keeping men and w...|       0.0|       0.0|\n",
            "|2020-04-28|61.3|61.3|61.3| 61.3| 97|Is Sweden Doing I...|The Swedes aren’t...|       0.0|     0.208|\n",
            "|2020-04-29|63.1|63.2|63.1| 63.1| 98|AMC Theaters and ...|AMC said Universa...|       0.0|     0.342|\n",
            "|2020-04-30|62.9|62.9|62.9| 62.9| 99|Coronavirus Rules...|Readers differ ab...|       0.0|     0.064|\n",
            "+----------+----+----+----+-----+---+--------------------+--------------------+----------+----------+\n",
            "only showing top 20 rows\n",
            "\n"
          ]
        }
      ]
    },
    {
      "cell_type": "code",
      "source": [
        "manufacturing_df_drop = manufacturing_df.drop('_c0','headline','snippet')"
      ],
      "metadata": {
        "id": "sZO2lSUZcSed"
      },
      "execution_count": 79,
      "outputs": []
    },
    {
      "cell_type": "code",
      "source": [
        "manufacturing_df_drop.show()"
      ],
      "metadata": {
        "colab": {
          "base_uri": "https://localhost:8080/"
        },
        "id": "2gF6EewdelDu",
        "outputId": "4905de63-de59-489e-ebcc-05bc8458e50e"
      },
      "execution_count": 80,
      "outputs": [
        {
          "output_type": "stream",
          "name": "stdout",
          "text": [
            "+----------+----+----+----+-----+----------+----------+\n",
            "|      date|Open|High| Low|Close|positivity|negativity|\n",
            "+----------+----+----+----+-----+----------+----------+\n",
            "|2020-04-02|54.8|54.9|54.8| 54.8|     0.211|       0.0|\n",
            "|2020-04-02|54.8|54.9|54.8| 54.8|     0.069|       0.0|\n",
            "|2020-04-03|56.2|56.2|56.2| 56.2|     0.068|     0.155|\n",
            "|2020-04-07|59.2|59.3|59.2| 59.2|     0.148|       0.0|\n",
            "|2020-04-08|59.4|59.4|59.3| 59.4|       0.0|       0.0|\n",
            "|2020-04-09|60.3|60.3|60.2| 60.3|       0.0|     0.101|\n",
            "|2020-04-13|59.9|59.9|59.8| 59.9|       0.0|       0.0|\n",
            "|2020-04-16|60.5|60.6|60.5| 60.5|       0.0|     0.228|\n",
            "|2020-04-16|60.5|60.6|60.5| 60.5|      0.04|      0.14|\n",
            "|2020-04-16|60.5|60.6|60.5| 60.5|       0.0|     0.254|\n",
            "|2020-04-17|61.1|61.2|61.1| 61.1|       0.0|     0.141|\n",
            "|2020-04-17|61.1|61.2|61.1| 61.1|     0.412|       0.0|\n",
            "|2020-04-17|61.1|61.2|61.1| 61.1|     0.281|       0.0|\n",
            "|2020-04-21|60.4|60.4|60.4| 60.4|       0.0|       0.0|\n",
            "|2020-04-21|60.4|60.4|60.4| 60.4|     0.204|     0.115|\n",
            "|2020-04-23|59.3|59.3|59.2| 59.3|       0.0|       0.0|\n",
            "|2020-04-28|61.3|61.3|61.3| 61.3|       0.0|       0.0|\n",
            "|2020-04-28|61.3|61.3|61.3| 61.3|       0.0|     0.208|\n",
            "|2020-04-29|63.1|63.2|63.1| 63.1|       0.0|     0.342|\n",
            "|2020-04-30|62.9|62.9|62.9| 62.9|       0.0|     0.064|\n",
            "+----------+----+----+----+-----+----------+----------+\n",
            "only showing top 20 rows\n",
            "\n"
          ]
        }
      ]
    },
    {
      "cell_type": "code",
      "source": [
        "from pyspark.mllib.linalg import Vectors\n",
        "from pyspark.ml.feature import VectorAssembler"
      ],
      "metadata": {
        "id": "UWjWg8ybhE2y"
      },
      "execution_count": 85,
      "outputs": []
    },
    {
      "cell_type": "code",
      "source": [
        "vector_assmebler= VectorAssembler(inputCols=['Open','High','Low','Close'] \n",
        "                                ,outputCol=\"features\")\n",
        "df_transformed= vector_assmebler.transform(manufacturing_df_drop) \n",
        "df_transformed.show()"
      ],
      "metadata": {
        "colab": {
          "base_uri": "https://localhost:8080/"
        },
        "id": "rc3qMlMwhE8e",
        "outputId": "7a38ce18-c6be-4ca9-cea0-549e24587ede"
      },
      "execution_count": 82,
      "outputs": [
        {
          "output_type": "stream",
          "name": "stdout",
          "text": [
            "+----------+----+----+----+-----+----------+----------+--------------------+\n",
            "|      date|Open|High| Low|Close|positivity|negativity|            features|\n",
            "+----------+----+----+----+-----+----------+----------+--------------------+\n",
            "|2020-04-02|54.8|54.9|54.8| 54.8|     0.211|       0.0|[54.7999992370605...|\n",
            "|2020-04-02|54.8|54.9|54.8| 54.8|     0.069|       0.0|[54.7999992370605...|\n",
            "|2020-04-03|56.2|56.2|56.2| 56.2|     0.068|     0.155|[56.2000007629394...|\n",
            "|2020-04-07|59.2|59.3|59.2| 59.2|     0.148|       0.0|[59.2000007629394...|\n",
            "|2020-04-08|59.4|59.4|59.3| 59.4|       0.0|       0.0|[59.4000015258789...|\n",
            "|2020-04-09|60.3|60.3|60.2| 60.3|       0.0|     0.101|[60.2999992370605...|\n",
            "|2020-04-13|59.9|59.9|59.8| 59.9|       0.0|       0.0|[59.9000015258789...|\n",
            "|2020-04-16|60.5|60.6|60.5| 60.5|       0.0|     0.228|[60.5,60.59999847...|\n",
            "|2020-04-16|60.5|60.6|60.5| 60.5|      0.04|      0.14|[60.5,60.59999847...|\n",
            "|2020-04-16|60.5|60.6|60.5| 60.5|       0.0|     0.254|[60.5,60.59999847...|\n",
            "|2020-04-17|61.1|61.2|61.1| 61.1|       0.0|     0.141|[61.0999984741210...|\n",
            "|2020-04-17|61.1|61.2|61.1| 61.1|     0.412|       0.0|[61.0999984741210...|\n",
            "|2020-04-17|61.1|61.2|61.1| 61.1|     0.281|       0.0|[61.0999984741210...|\n",
            "|2020-04-21|60.4|60.4|60.4| 60.4|       0.0|       0.0|[60.4000015258789...|\n",
            "|2020-04-21|60.4|60.4|60.4| 60.4|     0.204|     0.115|[60.4000015258789...|\n",
            "|2020-04-23|59.3|59.3|59.2| 59.3|       0.0|       0.0|[59.2999992370605...|\n",
            "|2020-04-28|61.3|61.3|61.3| 61.3|       0.0|       0.0|[61.2999992370605...|\n",
            "|2020-04-28|61.3|61.3|61.3| 61.3|       0.0|     0.208|[61.2999992370605...|\n",
            "|2020-04-29|63.1|63.2|63.1| 63.1|       0.0|     0.342|[63.0999984741210...|\n",
            "|2020-04-30|62.9|62.9|62.9| 62.9|       0.0|     0.064|[62.9000015258789...|\n",
            "+----------+----+----+----+-----+----------+----------+--------------------+\n",
            "only showing top 20 rows\n",
            "\n"
          ]
        }
      ]
    },
    {
      "cell_type": "code",
      "source": [
        "df_pos_model=df_transformed.select('features','Positivity')\n",
        "df_pos_model.show()"
      ],
      "metadata": {
        "colab": {
          "base_uri": "https://localhost:8080/"
        },
        "id": "Aq8aXJWZZkSg",
        "outputId": "80c3a84a-b5db-4019-d026-36ae2c1f7396"
      },
      "execution_count": 86,
      "outputs": [
        {
          "output_type": "stream",
          "name": "stdout",
          "text": [
            "+--------------------+----------+\n",
            "|            features|Positivity|\n",
            "+--------------------+----------+\n",
            "|[54.7999992370605...|     0.211|\n",
            "|[54.7999992370605...|     0.069|\n",
            "|[56.2000007629394...|     0.068|\n",
            "|[59.2000007629394...|     0.148|\n",
            "|[59.4000015258789...|       0.0|\n",
            "|[60.2999992370605...|       0.0|\n",
            "|[59.9000015258789...|       0.0|\n",
            "|[60.5,60.59999847...|       0.0|\n",
            "|[60.5,60.59999847...|      0.04|\n",
            "|[60.5,60.59999847...|       0.0|\n",
            "|[61.0999984741210...|       0.0|\n",
            "|[61.0999984741210...|     0.412|\n",
            "|[61.0999984741210...|     0.281|\n",
            "|[60.4000015258789...|       0.0|\n",
            "|[60.4000015258789...|     0.204|\n",
            "|[59.2999992370605...|       0.0|\n",
            "|[61.2999992370605...|       0.0|\n",
            "|[61.2999992370605...|       0.0|\n",
            "|[63.0999984741210...|       0.0|\n",
            "|[62.9000015258789...|       0.0|\n",
            "+--------------------+----------+\n",
            "only showing top 20 rows\n",
            "\n"
          ]
        }
      ]
    },
    {
      "cell_type": "code",
      "source": [
        "# Cast Course_Fees from integer type to float type\n",
        "df_pos_model_cast = df_pos_model.withColumn(\"Positivity\", \n",
        "                                  df_pos_model[\"Positivity\"]\n",
        "                                  .cast('float'))\n",
        "df_pos_model_cast.printSchema()"
      ],
      "metadata": {
        "colab": {
          "base_uri": "https://localhost:8080/"
        },
        "id": "OyVYfsHNUUpe",
        "outputId": "634dc005-7fce-4795-b363-8a70495f6b9f"
      },
      "execution_count": 87,
      "outputs": [
        {
          "output_type": "stream",
          "name": "stdout",
          "text": [
            "root\n",
            " |-- features: vector (nullable = true)\n",
            " |-- Positivity: float (nullable = true)\n",
            "\n"
          ]
        }
      ]
    },
    {
      "cell_type": "code",
      "source": [
        "df_neg_model=df_transformed.select('features','Negativity')\n",
        "df_neg_model.show(truncate= False)"
      ],
      "metadata": {
        "colab": {
          "base_uri": "https://localhost:8080/"
        },
        "id": "kFmgI9ECU05O",
        "outputId": "a7008a4b-d716-4b72-a019-a8f9ddb151c8"
      },
      "execution_count": 42,
      "outputs": [
        {
          "output_type": "stream",
          "name": "stdout",
          "text": [
            "+----------------------------------------------------------------------------+----------+\n",
            "|features                                                                    |Negativity|\n",
            "+----------------------------------------------------------------------------+----------+\n",
            "|[54.83000183105469,54.869998931884766,54.790000915527344,54.83000183105469] |0.0       |\n",
            "|[54.83000183105469,54.869998931884766,54.790000915527344,54.83000183105469] |0.0       |\n",
            "|[56.20000076293945,56.2400016784668,56.16999816894531,56.20000076293945]    |0.155     |\n",
            "|[59.2400016784668,59.279998779296875,59.189998626708984,59.2400016784668]   |0.0       |\n",
            "|[59.369998931884766,59.400001525878906,59.33000183105469,59.369998931884766]|0.0       |\n",
            "|[60.2599983215332,60.29999923706055,60.220001220703125,60.2599983215332]    |0.101     |\n",
            "|[59.849998474121094,59.880001068115234,59.81999969482422,59.849998474121094]|0.0       |\n",
            "|[60.52000045776367,60.560001373291016,60.4900016784668,60.529998779296875]  |0.228     |\n",
            "|[60.52000045776367,60.560001373291016,60.4900016784668,60.529998779296875]  |0.14      |\n",
            "|[60.52000045776367,60.560001373291016,60.4900016784668,60.529998779296875]  |0.254     |\n",
            "|[61.130001068115234,61.15999984741211,61.099998474121094,61.130001068115234]|0.141     |\n",
            "|[61.130001068115234,61.15999984741211,61.099998474121094,61.130001068115234]|0.0       |\n",
            "|[61.130001068115234,61.15999984741211,61.099998474121094,61.130001068115234]|0.0       |\n",
            "|[60.41999816894531,60.45000076293945,60.380001068115234,60.41999816894531]  |0.0       |\n",
            "|[60.41999816894531,60.45000076293945,60.380001068115234,60.41999816894531]  |0.115     |\n",
            "|[59.25,59.290000915527344,59.220001220703125,59.25]                         |0.0       |\n",
            "|[61.279998779296875,61.310001373291016,61.2599983215332,61.279998779296875] |0.0       |\n",
            "|[61.279998779296875,61.310001373291016,61.2599983215332,61.279998779296875] |0.208     |\n",
            "|[63.130001068115234,63.15999984741211,63.099998474121094,63.130001068115234]|0.342     |\n",
            "|[62.88999938964844,62.93000030517578,62.86000061035156,62.88999938964844]   |0.064     |\n",
            "+----------------------------------------------------------------------------+----------+\n",
            "only showing top 20 rows\n",
            "\n"
          ]
        }
      ]
    },
    {
      "cell_type": "code",
      "source": [
        "# Cast Course_Fees from integer type to float type\n",
        "df_neg_model_cast = df_neg_model.withColumn(\"Negativity\", \n",
        "                                  df_neg_model[\"Negativity\"]\n",
        "                                  .cast('float'))\n",
        "df_neg_model_cast.printSchema()\n"
      ],
      "metadata": {
        "colab": {
          "base_uri": "https://localhost:8080/"
        },
        "id": "q8AYKiAuWKo7",
        "outputId": "0167f3b7-d15d-417d-abd8-dde0bb29c907"
      },
      "execution_count": 57,
      "outputs": [
        {
          "output_type": "stream",
          "name": "stdout",
          "text": [
            "root\n",
            " |-- features: vector (nullable = true)\n",
            " |-- Negativity: float (nullable = true)\n",
            "\n"
          ]
        }
      ]
    },
    {
      "cell_type": "code",
      "source": [
        "# split the data, %80 train %20 test\n",
        "(training, test) = df_neg_model_cast.randomSplit([0.8, 0.2], seed = 1234)\n",
        "print (training.first())"
      ],
      "metadata": {
        "colab": {
          "base_uri": "https://localhost:8080/"
        },
        "id": "47XVogXebEKk",
        "outputId": "97114dce-e0a8-4039-920a-78da2a24b1aa"
      },
      "execution_count": 59,
      "outputs": [
        {
          "output_type": "stream",
          "name": "stdout",
          "text": [
            "Row(features=DenseVector([45.6, 45.62, 45.58, 45.6]), Negativity=0.0)\n"
          ]
        }
      ]
    },
    {
      "cell_type": "code",
      "source": [
        "training_no_null =training.dropna()\n",
        "test_no_null = test.dropna()"
      ],
      "metadata": {
        "id": "xN0kigFKgrpe"
      },
      "execution_count": 98,
      "outputs": []
    },
    {
      "cell_type": "markdown",
      "source": [
        ""
      ],
      "metadata": {
        "id": "9dJkopO5Y_Or"
      }
    },
    {
      "cell_type": "code",
      "source": [
        "#Linear regression model\n",
        "from pyspark.ml.regression import LinearRegression\n",
        "Linear_Regression=LinearRegression(labelCol='Negativity')\n",
        "regression = Linear_Regression.fit(training_no_null)"
      ],
      "metadata": {
        "id": "TLtd17P3lkSK"
      },
      "execution_count": 90,
      "outputs": []
    },
    {
      "cell_type": "code",
      "source": [
        "print(f\"intercept: {regression.intercept}\")\n",
        "print(f\"coefficiencts: {regression.coefficients}\")"
      ],
      "metadata": {
        "id": "9jw0r0x9SNRN",
        "colab": {
          "base_uri": "https://localhost:8080/"
        },
        "outputId": "8ab158a4-996d-4ef5-df7b-83d1cce1da18"
      },
      "execution_count": 91,
      "outputs": [
        {
          "output_type": "stream",
          "name": "stdout",
          "text": [
            "intercept: 0.07415187493515459\n",
            "coefficiencts: [0.0010495503535216289,-0.05019627353940324,0.06760333314063317,-0.018477891022934526]\n"
          ]
        }
      ]
    },
    {
      "cell_type": "code",
      "source": [
        "training_predictions=regression.evaluate(training_no_null)\n",
        "\n",
        "print(\"Training R squared:\", training_predictions.r2)"
      ],
      "metadata": {
        "id": "6toLPes4SNVp",
        "colab": {
          "base_uri": "https://localhost:8080/"
        },
        "outputId": "d382b2d6-e170-4be4-bda8-a8ecab4a0300"
      },
      "execution_count": 93,
      "outputs": [
        {
          "output_type": "stream",
          "name": "stdout",
          "text": [
            "Training R squared: 0.0012274194760139023\n"
          ]
        }
      ]
    },
    {
      "cell_type": "code",
      "source": [
        "test_prediction  = regression.evaluate(test_no_null)"
      ],
      "metadata": {
        "id": "BvXWVufiSNZA"
      },
      "execution_count": 99,
      "outputs": []
    },
    {
      "cell_type": "code",
      "source": [
        "print(\"Testing MSE: \", test_prediction.meanSquaredError)"
      ],
      "metadata": {
        "id": "93lelRzaSNdI",
        "colab": {
          "base_uri": "https://localhost:8080/"
        },
        "outputId": "f50f7f8c-88e3-4a0b-b7a4-cae3ac5218db"
      },
      "execution_count": 100,
      "outputs": [
        {
          "output_type": "stream",
          "name": "stdout",
          "text": [
            "Testing MSE:  0.009504081772197541\n"
          ]
        }
      ]
    },
    {
      "cell_type": "code",
      "source": [
        "#Predictions \n",
        "df_prediction = test_prediction.predictions\n",
        "df_prediction.orderBy('prediction',ascending=False).show(10, truncate = False)\n"
      ],
      "metadata": {
        "colab": {
          "base_uri": "https://localhost:8080/"
        },
        "id": "-fTDXuezbENg",
        "outputId": "b42e7a58-aa76-4f1d-d763-51745aea45b2"
      },
      "execution_count": 101,
      "outputs": [
        {
          "output_type": "stream",
          "name": "stdout",
          "text": [
            "+-----------------------------------------------------------------------------+----------+-------------------+\n",
            "|features                                                                     |Negativity|prediction         |\n",
            "+-----------------------------------------------------------------------------+----------+-------------------+\n",
            "|[45.599998474121094,45.599998474121094,45.599998474121094,45.599998474121094]|0.0       |0.07318145825848406|\n",
            "|[45.599998474121094,45.599998474121094,45.599998474121094,45.599998474121094]|0.0       |0.07318145825848406|\n",
            "|[45.599998474121094,45.599998474121094,45.599998474121094,45.599998474121094]|0.0       |0.07318145825848406|\n",
            "|[45.599998474121094,45.599998474121094,45.599998474121094,45.599998474121094]|0.0       |0.07318145825848406|\n",
            "|[45.599998474121094,45.599998474121094,45.599998474121094,45.599998474121094]|0.0       |0.07318145825848406|\n",
            "|[45.599998474121094,45.599998474121094,45.599998474121094,45.599998474121094]|0.0       |0.07318145825848406|\n",
            "|[45.599998474121094,45.599998474121094,45.599998474121094,45.599998474121094]|0.0       |0.07318145825848406|\n",
            "|[45.599998474121094,45.599998474121094,45.599998474121094,45.599998474121094]|0.0       |0.07318145825848406|\n",
            "|[45.599998474121094,45.599998474121094,45.599998474121094,45.599998474121094]|0.0       |0.07318145825848406|\n",
            "|[45.599998474121094,45.599998474121094,45.599998474121094,45.599998474121094]|0.055     |0.07318145825848406|\n",
            "+-----------------------------------------------------------------------------+----------+-------------------+\n",
            "only showing top 10 rows\n",
            "\n"
          ]
        }
      ]
    },
    {
      "cell_type": "code",
      "source": [
        "from pyspark.ml.regression import DecisionTreeRegressor\n",
        "from pyspark.ml.evaluation import RegressionEvaluator\n",
        "dt = DecisionTreeRegressor(featuresCol ='features', labelCol = 'Negativity')\n",
        "dt_model = dt.fit(training_no_null)\n",
        "dt_predictions = dt_model.transform(test_no_null)\n",
        "dt_evaluator = RegressionEvaluator(labelCol=\"Negativity\", predictionCol=\"prediction\", metricName=\"rmse\")\n",
        "rmse = dt_evaluator.evaluate(dt_predictions)\n",
        "print(\"Root Mean Squared Error (RMSE) on negative test data = %g\" % rmse)"
      ],
      "metadata": {
        "id": "2N-LcduxbEQm",
        "colab": {
          "base_uri": "https://localhost:8080/"
        },
        "outputId": "1d998b28-0d8a-4624-9721-5510d9f6bbdb"
      },
      "execution_count": 102,
      "outputs": [
        {
          "output_type": "stream",
          "name": "stdout",
          "text": [
            "Root Mean Squared Error (RMSE) on negative test data = 0.0971791\n"
          ]
        }
      ]
    },
    {
      "cell_type": "code",
      "source": [
        "from pyspark.ml.regression import GBTRegressor\n",
        "gbt = GBTRegressor(featuresCol = 'features', labelCol = 'Negativity', maxIter=10)\n",
        "gbt_model = gbt.fit(training_no_null)\n",
        "gbt_predictions = gbt_model.transform(test_no_null)\n",
        "gbt_predictions.select('prediction', 'Negativity', 'features').show(5)"
      ],
      "metadata": {
        "id": "ZThTHCTlbET_",
        "colab": {
          "base_uri": "https://localhost:8080/"
        },
        "outputId": "5647cc9e-ae60-4f70-ada1-0148fe88551c"
      },
      "execution_count": 103,
      "outputs": [
        {
          "output_type": "stream",
          "name": "stdout",
          "text": [
            "+-------------------+----------+--------------------+\n",
            "|         prediction|Negativity|            features|\n",
            "+-------------------+----------+--------------------+\n",
            "|0.06802302487545628|       0.0|[45.5999984741210...|\n",
            "|0.06802302487545628|       0.0|[45.5999984741210...|\n",
            "|0.06802302487545628|       0.0|[45.5999984741210...|\n",
            "|0.06802302487545628|       0.0|[45.5999984741210...|\n",
            "|0.06802302487545628|       0.0|[45.5999984741210...|\n",
            "+-------------------+----------+--------------------+\n",
            "only showing top 5 rows\n",
            "\n"
          ]
        }
      ]
    },
    {
      "cell_type": "code",
      "source": [
        "gbt_evaluator = RegressionEvaluator(\n",
        "    labelCol=\"Negativity\", predictionCol=\"prediction\", metricName=\"rmse\")\n",
        "rmse = gbt_evaluator.evaluate(gbt_predictions)\n",
        "print(\"Root Mean Squared Error (RMSE) on negative test data = %g\" % rmse)"
      ],
      "metadata": {
        "id": "4VQ7LZ7ySmhY",
        "colab": {
          "base_uri": "https://localhost:8080/"
        },
        "outputId": "872e5842-4e8d-4426-eab8-47e2b5b18526"
      },
      "execution_count": 104,
      "outputs": [
        {
          "output_type": "stream",
          "name": "stdout",
          "text": [
            "Root Mean Squared Error (RMSE) on negative test data = 0.0971925\n"
          ]
        }
      ]
    },
    {
      "cell_type": "code",
      "source": [
        "(training_pos, test_pos) = df_pos_model_cast.randomSplit([0.8, 0.2], seed = 1234)\n",
        "print (training_pos.first())"
      ],
      "metadata": {
        "id": "jb3LhDWLSmnr",
        "colab": {
          "base_uri": "https://localhost:8080/"
        },
        "outputId": "b3dcaa20-ad46-46cd-a422-7d9ebba8382e"
      },
      "execution_count": 113,
      "outputs": [
        {
          "output_type": "stream",
          "name": "stdout",
          "text": [
            "Row(features=DenseVector([45.6, 45.6, 45.6, 45.6]), Positivity=0.0)\n"
          ]
        }
      ]
    },
    {
      "cell_type": "code",
      "source": [
        "training_pos_null = training_pos.dropna()\n",
        "test_pos_null = test_pos.dropna()"
      ],
      "metadata": {
        "id": "ybMVk4oXho1k"
      },
      "execution_count": 114,
      "outputs": []
    },
    {
      "cell_type": "code",
      "source": [
        "#Linear regression model\n",
        "from pyspark.ml.regression import LinearRegression\n",
        "Linear_Regression=LinearRegression(labelCol='Positivity')\n",
        "regression = Linear_Regression.fit(training_pos_null)"
      ],
      "metadata": {
        "id": "-6jFZpldSmw1"
      },
      "execution_count": 115,
      "outputs": []
    },
    {
      "cell_type": "code",
      "source": [
        "print(f\"intercept: {regression.intercept}\")\n",
        "print(f\"coefficiencts: {regression.coefficients}\")"
      ],
      "metadata": {
        "id": "gJL33URXSm_R",
        "colab": {
          "base_uri": "https://localhost:8080/"
        },
        "outputId": "4cd23a2a-a3e0-4bbe-a361-77a93c4860bd"
      },
      "execution_count": 116,
      "outputs": [
        {
          "output_type": "stream",
          "name": "stdout",
          "text": [
            "intercept: 0.07205059081704651\n",
            "coefficiencts: [0.047360323278074164,-0.07835544312932988,0.11093956891857094,-0.07981963490867372]\n"
          ]
        }
      ]
    },
    {
      "cell_type": "code",
      "source": [
        "training_predictions=regression.evaluate(training_pos_null)\n",
        "\n",
        "print(\"Training R squared:\", training_predictions.r2)"
      ],
      "metadata": {
        "id": "1qsYwOGISvle",
        "colab": {
          "base_uri": "https://localhost:8080/"
        },
        "outputId": "386ad3c6-4bc5-41e0-8ca9-81ba799ece60"
      },
      "execution_count": 117,
      "outputs": [
        {
          "output_type": "stream",
          "name": "stdout",
          "text": [
            "Training R squared: 0.003033291094148294\n"
          ]
        }
      ]
    },
    {
      "cell_type": "code",
      "source": [
        "test_prediction  = regression.evaluate(test_pos_null)"
      ],
      "metadata": {
        "id": "B3mBcBUMSvzG"
      },
      "execution_count": 118,
      "outputs": []
    },
    {
      "cell_type": "code",
      "source": [
        "print(\"Testing MSE: \", test_prediction.meanSquaredError)"
      ],
      "metadata": {
        "id": "6xn90V_5SwA0",
        "colab": {
          "base_uri": "https://localhost:8080/"
        },
        "outputId": "29f2b9ba-2eef-4491-9ee9-0fdc0e698678"
      },
      "execution_count": 119,
      "outputs": [
        {
          "output_type": "stream",
          "name": "stdout",
          "text": [
            "Testing MSE:  0.009702271030605081\n"
          ]
        }
      ]
    },
    {
      "cell_type": "code",
      "source": [
        "#Predictions \n",
        "df_prediction = test_prediction.predictions\n",
        "df_prediction.orderBy('prediction',ascending=False).show(10, truncate = False)"
      ],
      "metadata": {
        "id": "EuPObi0CS5j9",
        "colab": {
          "base_uri": "https://localhost:8080/"
        },
        "outputId": "2e89de75-e708-4737-a2f8-ea9c7f0ef6c8"
      },
      "execution_count": 120,
      "outputs": [
        {
          "output_type": "stream",
          "name": "stdout",
          "text": [
            "+-----------------------------------------------------------------------------+----------+------------------+\n",
            "|features                                                                     |Positivity|prediction        |\n",
            "+-----------------------------------------------------------------------------+----------+------------------+\n",
            "|[132.39999389648438,132.39999389648438,132.39999389648438,132.39999389648438]|0.0       |0.0885759846593756|\n",
            "|[132.39999389648438,132.39999389648438,132.39999389648438,132.39999389648438]|0.114     |0.0885759846593756|\n",
            "|[132.39999389648438,132.39999389648438,132.39999389648438,132.39999389648438]|0.0       |0.0885759846593756|\n",
            "|[132.39999389648438,132.39999389648438,132.39999389648438,132.39999389648438]|0.0       |0.0885759846593756|\n",
            "|[132.39999389648438,132.39999389648438,132.39999389648438,132.39999389648438]|0.0       |0.0885759846593756|\n",
            "|[132.39999389648438,132.39999389648438,132.39999389648438,132.39999389648438]|0.0       |0.0885759846593756|\n",
            "|[132.39999389648438,132.39999389648438,132.39999389648438,132.39999389648438]|0.0       |0.0885759846593756|\n",
            "|[132.39999389648438,132.39999389648438,132.39999389648438,132.39999389648438]|0.0       |0.0885759846593756|\n",
            "|[132.39999389648438,132.39999389648438,132.39999389648438,132.39999389648438]|0.064     |0.0885759846593756|\n",
            "|[132.39999389648438,132.39999389648438,132.39999389648438,132.39999389648438]|0.096     |0.0885759846593756|\n",
            "+-----------------------------------------------------------------------------+----------+------------------+\n",
            "only showing top 10 rows\n",
            "\n"
          ]
        }
      ]
    },
    {
      "cell_type": "code",
      "source": [
        "from pyspark.ml.regression import DecisionTreeRegressor\n",
        "from pyspark.ml.evaluation import RegressionEvaluator\n",
        "dt = DecisionTreeRegressor(featuresCol ='features', labelCol = 'Positivity')\n",
        "dt_model = dt.fit(training_pos_null)\n",
        "dt_predictions = dt_model.transform(test_pos_null)\n",
        "dt_evaluator = RegressionEvaluator(labelCol=\"Positivity\", predictionCol=\"prediction\", metricName=\"rmse\")\n",
        "rmse = dt_evaluator.evaluate(dt_predictions)\n",
        "print(\"Root Mean Squared Error (RMSE) on positive test data = %g\" % rmse)"
      ],
      "metadata": {
        "id": "KSRl3_F1S5t0",
        "colab": {
          "base_uri": "https://localhost:8080/"
        },
        "outputId": "cabe65d8-3411-4c49-e479-2478d20ff2ae"
      },
      "execution_count": 121,
      "outputs": [
        {
          "output_type": "stream",
          "name": "stdout",
          "text": [
            "Root Mean Squared Error (RMSE) on positive test data = 0.0982396\n"
          ]
        }
      ]
    },
    {
      "cell_type": "code",
      "source": [
        "from pyspark.ml.regression import GBTRegressor\n",
        "gbt = GBTRegressor(featuresCol = 'features', labelCol = 'Positivity', maxIter=10)\n",
        "gbt_model = gbt.fit(training_pos_null)\n",
        "gbt_predictions = gbt_model.transform(test_pos_null)\n",
        "gbt_predictions.select('prediction', 'Positivity', 'features').show(5)"
      ],
      "metadata": {
        "id": "yHHZ8QkiS54Z",
        "colab": {
          "base_uri": "https://localhost:8080/"
        },
        "outputId": "971a72d4-e24b-4e76-94a3-8659d4081360"
      },
      "execution_count": 124,
      "outputs": [
        {
          "output_type": "stream",
          "name": "stdout",
          "text": [
            "+-------------------+----------+--------------------+\n",
            "|         prediction|Positivity|            features|\n",
            "+-------------------+----------+--------------------+\n",
            "|0.07617717172183193|       0.0|[45.5999984741210...|\n",
            "|0.07617717172183193|       0.0|[45.5999984741210...|\n",
            "|0.07617717172183193|       0.0|[45.5999984741210...|\n",
            "|0.07617717172183193|       0.0|[45.5999984741210...|\n",
            "|0.07617717172183193|       0.0|[45.5999984741210...|\n",
            "+-------------------+----------+--------------------+\n",
            "only showing top 5 rows\n",
            "\n"
          ]
        }
      ]
    },
    {
      "cell_type": "code",
      "source": [
        "gbt_evaluator = RegressionEvaluator(\n",
        "    labelCol=\"Positivity\", predictionCol=\"prediction\", metricName=\"rmse\")\n",
        "rmse = gbt_evaluator.evaluate(gbt_predictions)\n",
        "print(\"Root Mean Squared Error (RMSE) on positive test data = %g\" % rmse)"
      ],
      "metadata": {
        "id": "82OFTIHhS_n-",
        "colab": {
          "base_uri": "https://localhost:8080/"
        },
        "outputId": "1793965c-beda-4eea-a7e9-6fd49f5b41d3"
      },
      "execution_count": 125,
      "outputs": [
        {
          "output_type": "stream",
          "name": "stdout",
          "text": [
            "Root Mean Squared Error (RMSE) on positive test data = 0.0983112\n"
          ]
        }
      ]
    },
    {
      "cell_type": "code",
      "source": [
        ""
      ],
      "metadata": {
        "id": "LlYZ0K2-S_1r"
      },
      "execution_count": null,
      "outputs": []
    }
  ]
}