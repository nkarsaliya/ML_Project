{
  "cells": [
    {
      "cell_type": "code",
      "execution_count": 31,
      "metadata": {
        "id": "0Gv6H5OYzqkm"
      },
      "outputs": [],
      "source": [
        "# Spark init\n",
        "!wget -q https://dlcdn.apache.org/spark/spark-3.1.2/spark-3.1.2-bin-hadoop2.7.tgz \n",
        "!tar xf spark-3.1.2-bin-hadoop2.7.tgz\n",
        "import os\n",
        "os.environ[\"JAVA_HOME\"] = \"/usr/lib/jvm/default-java\"\n",
        "os.environ[\"SPARK_HOME\"] = \"/content/spark-3.1.2-bin-hadoop2.7\"\n",
        "!pip install -q findspark\n",
        "import findspark\n",
        "findspark.init()\n",
        "\n",
        "from pyspark.sql import SparkSession\n",
        "spark = SparkSession.builder\\\n",
        "        .master(\"local\")\\\n",
        "        .appName(\"Colab\")\\\n",
        "        .config('spark.ui.port', '4050')\\\n",
        "        .getOrCreate()"
      ]
    },
    {
      "cell_type": "code",
      "execution_count": 32,
      "metadata": {
        "id": "s0mQQjKlzsBM"
      },
      "outputs": [],
      "source": [
        "import pyspark\n",
        "from pyspark.sql.types import StructField\n",
        "from pyspark.sql.types import *\n",
        "\n",
        "custom_schema = StructType([\n",
        "        StructField(\"Date\", StringType(), True),\n",
        "        StructField(\"Open\", FloatType(), True),\n",
        "        StructField(\"High\", FloatType(), True),\n",
        "        StructField(\"Low\", FloatType(), True), \n",
        "        StructField(\"Close\", FloatType(), True),\n",
        "        StructField(\"Negativity\", FloatType(), True),\n",
        "        StructField(\"Positivity\", FloatType(), True)\n",
        "    ])"
      ]
    },
    {
      "cell_type": "code",
      "execution_count": 33,
      "metadata": {
        "id": "8vRolt_rztZr"
      },
      "outputs": [],
      "source": [
        "df = spark.read.csv(\"/content/drive/MyDrive/data/NegPosData.csv\", sep=',', schema = custom_schema, header=True)"
      ]
    },
    {
      "cell_type": "code",
      "source": [
        "df = df.dropna()\n",
        "df.show()"
      ],
      "metadata": {
        "colab": {
          "base_uri": "https://localhost:8080/"
        },
        "id": "7ovzvZNNtDbP",
        "outputId": "ea5cf1d1-2e28-4180-b572-a4fba2ed5033"
      },
      "execution_count": 34,
      "outputs": [
        {
          "output_type": "stream",
          "name": "stdout",
          "text": [
            "+----------+----+----+----+-----+----------+----------+\n",
            "|      Date|Open|High| Low|Close|Negativity|Positivity|\n",
            "+----------+----+----+----+-----+----------+----------+\n",
            "|2020-04-01|66.0|66.0|66.0| 66.0|      0.67|      0.27|\n",
            "|2020-04-02|66.0|66.0|66.0| 66.0|       0.0|       0.5|\n",
            "|2020-04-03|67.0|67.0|67.0| 67.0|      0.26|     0.115|\n",
            "|2020-04-07|69.0|69.0|69.0| 69.0|       0.0|     0.275|\n",
            "|2020-04-08|69.0|69.0|69.0| 69.0|       0.0|       0.0|\n",
            "|2020-04-09|66.0|66.0|66.0| 66.0|     0.201|       0.0|\n",
            "|2020-04-13|71.0|71.0|71.0| 71.0|       0.0|       0.0|\n",
            "|2020-04-16|76.0|76.0|76.0| 76.0|    0.1178|      0.76|\n",
            "|2020-04-17|75.0|75.0|75.0| 75.0|     0.251|    0.1233|\n",
            "|2020-04-21|74.0|74.0|74.0| 74.0|     0.203|      0.36|\n",
            "|2020-04-23|75.0|75.0|75.0| 75.0|       0.0|       0.0|\n",
            "|2020-04-28|72.0|72.0|72.0| 72.0|     0.416|       0.0|\n",
            "|2020-04-29|72.0|72.0|72.0| 72.0|     0.668|       0.0|\n",
            "|2020-04-30|72.0|72.0|72.0| 72.0|     0.127|       0.0|\n",
            "|2020-05-01|72.0|72.0|71.0| 72.0|     0.459|       0.0|\n",
            "|2020-05-05|70.0|70.0|70.0| 70.0|       0.0|     0.502|\n",
            "|2020-05-08|72.0|72.0|72.0| 72.0|       0.0|     0.191|\n",
            "|2020-05-11|73.0|73.0|73.0| 73.0|     0.401|      0.49|\n",
            "|2020-05-12|73.0|73.0|73.0| 73.0|     0.342|      0.23|\n",
            "|2020-05-14|72.0|72.0|72.0| 72.0|       0.0|     0.148|\n",
            "+----------+----+----+----+-----+----------+----------+\n",
            "only showing top 20 rows\n",
            "\n"
          ]
        }
      ]
    },
    {
      "cell_type": "code",
      "source": [
        "from pyspark.ml.linalg import Vector  \n",
        "from pyspark.ml.feature import VectorAssembler"
      ],
      "metadata": {
        "id": "TBSKO2SguTex"
      },
      "execution_count": 35,
      "outputs": []
    },
    {
      "cell_type": "code",
      "source": [
        "vector_assmebler=VectorAssembler(inputCols=['Negativity', 'Positivity'] \n",
        "                                ,outputCol='features')\n",
        "df_transformed=vector_assmebler.transform(df)\n",
        "\n",
        "df_transformed.show()"
      ],
      "metadata": {
        "colab": {
          "base_uri": "https://localhost:8080/"
        },
        "id": "XXQ-FcW2uWwh",
        "outputId": "30c76cb1-e8d5-41c7-fec3-dca7c892e246"
      },
      "execution_count": 36,
      "outputs": [
        {
          "output_type": "stream",
          "name": "stdout",
          "text": [
            "+----------+----+----+----+-----+----------+----------+--------------------+\n",
            "|      Date|Open|High| Low|Close|Negativity|Positivity|            features|\n",
            "+----------+----+----+----+-----+----------+----------+--------------------+\n",
            "|2020-04-01|66.0|66.0|66.0| 66.0|      0.67|      0.27|[0.67000001668930...|\n",
            "|2020-04-02|66.0|66.0|66.0| 66.0|       0.0|       0.5|           [0.0,0.5]|\n",
            "|2020-04-03|67.0|67.0|67.0| 67.0|      0.26|     0.115|[0.25999999046325...|\n",
            "|2020-04-07|69.0|69.0|69.0| 69.0|       0.0|     0.275|[0.0,0.2750000059...|\n",
            "|2020-04-08|69.0|69.0|69.0| 69.0|       0.0|       0.0|           (2,[],[])|\n",
            "|2020-04-09|66.0|66.0|66.0| 66.0|     0.201|       0.0|[0.20100000500679...|\n",
            "|2020-04-13|71.0|71.0|71.0| 71.0|       0.0|       0.0|           (2,[],[])|\n",
            "|2020-04-16|76.0|76.0|76.0| 76.0|    0.1178|      0.76|[0.11779999732971...|\n",
            "|2020-04-17|75.0|75.0|75.0| 75.0|     0.251|    0.1233|[0.25099998712539...|\n",
            "|2020-04-21|74.0|74.0|74.0| 74.0|     0.203|      0.36|[0.20299999415874...|\n",
            "|2020-04-23|75.0|75.0|75.0| 75.0|       0.0|       0.0|           (2,[],[])|\n",
            "|2020-04-28|72.0|72.0|72.0| 72.0|     0.416|       0.0|[0.41600000858306...|\n",
            "|2020-04-29|72.0|72.0|72.0| 72.0|     0.668|       0.0|[0.66799998283386...|\n",
            "|2020-04-30|72.0|72.0|72.0| 72.0|     0.127|       0.0|[0.12700000405311...|\n",
            "|2020-05-01|72.0|72.0|71.0| 72.0|     0.459|       0.0|[0.45899999141693...|\n",
            "|2020-05-05|70.0|70.0|70.0| 70.0|       0.0|     0.502|[0.0,0.5019999742...|\n",
            "|2020-05-08|72.0|72.0|72.0| 72.0|       0.0|     0.191|[0.0,0.1909999996...|\n",
            "|2020-05-11|73.0|73.0|73.0| 73.0|     0.401|      0.49|[0.40099999308586...|\n",
            "|2020-05-12|73.0|73.0|73.0| 73.0|     0.342|      0.23|[0.34200000762939...|\n",
            "|2020-05-14|72.0|72.0|72.0| 72.0|       0.0|     0.148|[0.0,0.1480000019...|\n",
            "+----------+----+----+----+-----+----------+----------+--------------------+\n",
            "only showing top 20 rows\n",
            "\n"
          ]
        }
      ]
    },
    {
      "cell_type": "code",
      "source": [
        "df_neg_model=df_transformed.select('features','Close')\n",
        "df_neg_model.show( truncate= False)"
      ],
      "metadata": {
        "colab": {
          "base_uri": "https://localhost:8080/"
        },
        "id": "PhNnBbGCu3x_",
        "outputId": "791ce860-3224-464d-a2cc-07f7ddb23b84"
      },
      "execution_count": 37,
      "outputs": [
        {
          "output_type": "stream",
          "name": "stdout",
          "text": [
            "+-----------------------------------------+-----+\n",
            "|features                                 |Close|\n",
            "+-----------------------------------------+-----+\n",
            "|[0.6700000166893005,0.27000001072883606] |66.0 |\n",
            "|[0.0,0.5]                                |66.0 |\n",
            "|[0.25999999046325684,0.11500000208616257]|67.0 |\n",
            "|[0.0,0.2750000059604645]                 |69.0 |\n",
            "|(2,[],[])                                |69.0 |\n",
            "|[0.20100000500679016,0.0]                |66.0 |\n",
            "|(2,[],[])                                |71.0 |\n",
            "|[0.11779999732971191,0.7599999904632568] |76.0 |\n",
            "|[0.25099998712539673,0.12330000102519989]|75.0 |\n",
            "|[0.2029999941587448,0.36000001430511475] |74.0 |\n",
            "|(2,[],[])                                |75.0 |\n",
            "|[0.41600000858306885,0.0]                |72.0 |\n",
            "|[0.6679999828338623,0.0]                 |72.0 |\n",
            "|[0.12700000405311584,0.0]                |72.0 |\n",
            "|[0.45899999141693115,0.0]                |72.0 |\n",
            "|[0.0,0.5019999742507935]                 |70.0 |\n",
            "|[0.0,0.19099999964237213]                |72.0 |\n",
            "|[0.4009999930858612,0.49000000953674316] |73.0 |\n",
            "|[0.34200000762939453,0.23000000417232513]|73.0 |\n",
            "|[0.0,0.14800000190734863]                |72.0 |\n",
            "+-----------------------------------------+-----+\n",
            "only showing top 20 rows\n",
            "\n"
          ]
        }
      ]
    },
    {
      "cell_type": "code",
      "source": [
        "(training, test) = df_neg_model.randomSplit([0.8, 0.2], seed = 1234)\n",
        "print (training.first())"
      ],
      "metadata": {
        "colab": {
          "base_uri": "https://localhost:8080/"
        },
        "id": "F0U0UuxJvDGy",
        "outputId": "1754d121-3949-4e18-ef4c-c89a52240afb"
      },
      "execution_count": 38,
      "outputs": [
        {
          "output_type": "stream",
          "name": "stdout",
          "text": [
            "Row(features=SparseVector(2, {}), Close=67.0)\n"
          ]
        }
      ]
    },
    {
      "cell_type": "code",
      "source": [
        "#Linear regression model\n",
        "from pyspark.ml.regression import LinearRegression\n",
        "Linear_Regression=LinearRegression(labelCol='Close')\n",
        "regression = Linear_Regression.fit(training)"
      ],
      "metadata": {
        "id": "5xLWuoB7vH9x"
      },
      "execution_count": 39,
      "outputs": []
    },
    {
      "cell_type": "code",
      "source": [
        "print(f\"intercept: {regression.intercept}\")\n",
        "print(f\"coefficiencts: {regression.coefficients}\")"
      ],
      "metadata": {
        "colab": {
          "base_uri": "https://localhost:8080/"
        },
        "id": "OrcQBeclvKWn",
        "outputId": "729bcbe6-5647-4d6c-dfe0-3b27790a1a2d"
      },
      "execution_count": 40,
      "outputs": [
        {
          "output_type": "stream",
          "name": "stdout",
          "text": [
            "intercept: 75.81966933332883\n",
            "coefficiencts: [-1.4196434934190554,1.418872987280451]\n"
          ]
        }
      ]
    },
    {
      "cell_type": "code",
      "source": [
        "training_predictions=regression.evaluate(training)\n",
        "\n",
        "print(\"Training R squared:\", training_predictions.r2)"
      ],
      "metadata": {
        "colab": {
          "base_uri": "https://localhost:8080/"
        },
        "id": "YnU-eEuWvWAJ",
        "outputId": "bc86fbee-14ed-4e1e-ae11-c98836bb57e9"
      },
      "execution_count": 41,
      "outputs": [
        {
          "output_type": "stream",
          "name": "stdout",
          "text": [
            "Training R squared: 0.005408814463458866\n"
          ]
        }
      ]
    },
    {
      "cell_type": "code",
      "source": [
        "test_prediction  = regression.evaluate(test)"
      ],
      "metadata": {
        "id": "eLkX-iRpvXmE"
      },
      "execution_count": 42,
      "outputs": []
    },
    {
      "cell_type": "code",
      "source": [
        "print(\"Testing MSE: \", test_prediction.meanSquaredError)"
      ],
      "metadata": {
        "colab": {
          "base_uri": "https://localhost:8080/"
        },
        "id": "mb64ASUJvZdq",
        "outputId": "5ad3f4bc-711a-4622-dd21-c7b92705f0e3"
      },
      "execution_count": 43,
      "outputs": [
        {
          "output_type": "stream",
          "name": "stdout",
          "text": [
            "Testing MSE:  38.42201552450965\n"
          ]
        }
      ]
    },
    {
      "cell_type": "code",
      "source": [
        "rmse = test_prediction.rootMeanSquaredError\n",
        "print(\"Root Mean Squared Error (RMSE) on Lindear Regression test data = %g\" % rmse)"
      ],
      "metadata": {
        "colab": {
          "base_uri": "https://localhost:8080/"
        },
        "id": "3eu2CplrH1ZN",
        "outputId": "299b8fb6-b1c1-4bcc-caa1-185144153998"
      },
      "execution_count": 44,
      "outputs": [
        {
          "output_type": "stream",
          "name": "stdout",
          "text": [
            "Root Mean Squared Error (RMSE) on Lindear Regression test data = 6.19855\n"
          ]
        }
      ]
    },
    {
      "cell_type": "code",
      "source": [
        "#Predictions \n",
        "df_prediction = test_prediction.predictions\n",
        "df_prediction.orderBy('prediction',ascending=False).show(10, truncate = False)"
      ],
      "metadata": {
        "colab": {
          "base_uri": "https://localhost:8080/"
        },
        "id": "uQmnJo2svbHU",
        "outputId": "489fe6d2-d42b-4d4b-db68-d571c9ac56a8"
      },
      "execution_count": 45,
      "outputs": [
        {
          "output_type": "stream",
          "name": "stdout",
          "text": [
            "+----------------------------------------+-----+-----------------+\n",
            "|features                                |Close|prediction       |\n",
            "+----------------------------------------+-----+-----------------+\n",
            "|[0.0,0.9539999961853027]                |70.0 |77.1732741577818 |\n",
            "|[0.0,0.7710000276565552]                |73.0 |76.9136204457632 |\n",
            "|[0.11060000211000443,0.8700000047683716]|78.0 |76.89707626566094|\n",
            "|[0.11779999732971191,0.7599999904632568]|76.0 |76.73077879039664|\n",
            "|[0.0,0.6079999804496765]                |69.0 |76.68234408185592|\n",
            "|[0.20999999344348907,0.781000018119812] |81.0 |76.62968403779448|\n",
            "|[0.4359999895095825,0.9700000286102295] |71.0 |76.57701162334709|\n",
            "|[0.0,0.5139999985694885]                |83.0 |76.54897004676127|\n",
            "|[0.0,0.45399999618530273]               |76.0 |76.4638376641416 |\n",
            "|[0.0,0.4519999921321869]                |83.0 |76.46099991241617|\n",
            "+----------------------------------------+-----+-----------------+\n",
            "only showing top 10 rows\n",
            "\n"
          ]
        }
      ]
    },
    {
      "cell_type": "code",
      "source": [
        "from pyspark.ml.regression import DecisionTreeRegressor\n",
        "from pyspark.ml.evaluation import RegressionEvaluator\n",
        "dt = DecisionTreeRegressor(featuresCol ='features', labelCol = 'Close')\n",
        "dt_model = dt.fit(training)\n",
        "dt_predictions = dt_model.transform(test)\n",
        "dt_evaluator = RegressionEvaluator(labelCol=\"Close\", predictionCol=\"prediction\", metricName=\"rmse\")\n",
        "rmse = dt_evaluator.evaluate(dt_predictions)\n",
        "print(\"Root Mean Squared Error (RMSE) on test data = %g\" % rmse)"
      ],
      "metadata": {
        "colab": {
          "base_uri": "https://localhost:8080/"
        },
        "id": "WEzs_KgK2SuI",
        "outputId": "7b0e671b-6076-4564-c140-ad94d303a939"
      },
      "execution_count": 46,
      "outputs": [
        {
          "output_type": "stream",
          "name": "stdout",
          "text": [
            "Root Mean Squared Error (RMSE) on test data = 6.48074\n"
          ]
        }
      ]
    },
    {
      "cell_type": "code",
      "source": [
        "from pyspark.ml.regression import GBTRegressor\n",
        "gbt = GBTRegressor(featuresCol = 'features', labelCol = 'Close', maxIter=10)\n",
        "gbt_model = gbt.fit(training)\n",
        "gbt_predictions = gbt_model.transform(test)\n",
        "gbt_predictions.select('prediction', 'Close', 'features').show(5)"
      ],
      "metadata": {
        "colab": {
          "base_uri": "https://localhost:8080/"
        },
        "id": "F8fdHIkx3D6Z",
        "outputId": "16d93c2a-7b09-4308-9f38-1db0014a4052"
      },
      "execution_count": 47,
      "outputs": [
        {
          "output_type": "stream",
          "name": "stdout",
          "text": [
            "+-----------------+-----+---------+\n",
            "|       prediction|Close| features|\n",
            "+-----------------+-----+---------+\n",
            "|75.59253229853176| 67.0|(2,[],[])|\n",
            "|75.59253229853176| 69.0|(2,[],[])|\n",
            "|75.59253229853176| 72.0|(2,[],[])|\n",
            "|75.59253229853176| 72.0|(2,[],[])|\n",
            "|75.59253229853176| 72.0|(2,[],[])|\n",
            "+-----------------+-----+---------+\n",
            "only showing top 5 rows\n",
            "\n"
          ]
        }
      ]
    },
    {
      "cell_type": "code",
      "source": [
        "gbt_evaluator = RegressionEvaluator(\n",
        "    labelCol=\"Close\", predictionCol=\"prediction\", metricName=\"rmse\")\n",
        "rmse = gbt_evaluator.evaluate(gbt_predictions)\n",
        "print(\"Root Mean Squared Error (RMSE) on test data = %g\" % rmse)"
      ],
      "metadata": {
        "colab": {
          "base_uri": "https://localhost:8080/"
        },
        "id": "qUsDNyC83HwB",
        "outputId": "b477251a-1f10-43c6-9117-997324477dbb"
      },
      "execution_count": 48,
      "outputs": [
        {
          "output_type": "stream",
          "name": "stdout",
          "text": [
            "Root Mean Squared Error (RMSE) on test data = 6.6151\n"
          ]
        }
      ]
    }
  ],
  "metadata": {
    "colab": {
      "name": "LinearRegressionHealthCare.ipynb",
      "provenance": []
    },
    "kernelspec": {
      "display_name": "Python 3",
      "name": "python3"
    },
    "language_info": {
      "name": "python"
    }
  },
  "nbformat": 4,
  "nbformat_minor": 0
}