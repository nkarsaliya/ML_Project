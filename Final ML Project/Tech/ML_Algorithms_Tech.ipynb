{
  "cells": [
    {
      "cell_type": "code",
      "execution_count": 212,
      "metadata": {
        "id": "0Gv6H5OYzqkm"
      },
      "outputs": [],
      "source": [
        "# Spark init\n",
        "!wget -q https://dlcdn.apache.org/spark/spark-3.1.2/spark-3.1.2-bin-hadoop2.7.tgz \n",
        "!tar xf spark-3.1.2-bin-hadoop2.7.tgz\n",
        "import os\n",
        "os.environ[\"JAVA_HOME\"] = \"/usr/lib/jvm/default-java\"\n",
        "os.environ[\"SPARK_HOME\"] = \"/content/spark-3.1.2-bin-hadoop2.7\"\n",
        "!pip install -q findspark\n",
        "import findspark\n",
        "findspark.init()\n",
        "\n",
        "from pyspark.sql import SparkSession\n",
        "spark = SparkSession.builder\\\n",
        "        .master(\"local\")\\\n",
        "        .appName(\"Colab\")\\\n",
        "        .config('spark.ui.port', '4050')\\\n",
        "        .getOrCreate()"
      ]
    },
    {
      "cell_type": "code",
      "source": [
        "from google.colab import drive\n",
        "drive.mount('/content/drive')"
      ],
      "metadata": {
        "colab": {
          "base_uri": "https://localhost:8080/"
        },
        "id": "GrguJGUUQnO0",
        "outputId": "ce218ddb-e42b-4cde-fd65-4511ecd44d65"
      },
      "execution_count": 213,
      "outputs": [
        {
          "output_type": "stream",
          "name": "stdout",
          "text": [
            "Drive already mounted at /content/drive; to attempt to forcibly remount, call drive.mount(\"/content/drive\", force_remount=True).\n"
          ]
        }
      ]
    },
    {
      "cell_type": "code",
      "execution_count": 214,
      "metadata": {
        "id": "s0mQQjKlzsBM"
      },
      "outputs": [],
      "source": [
        "import pyspark\n",
        "from pyspark.sql.types import StructField\n",
        "from pyspark.sql.types import *\n",
        "\n",
        "custom_schema = StructType([\n",
        "        StructField(\"Date\", StringType(), True),\n",
        "        StructField(\"Open\", FloatType(), True),\n",
        "        StructField(\"High\", FloatType(), True),\n",
        "        StructField(\"Low\", FloatType(), True), \n",
        "        StructField(\"Close\", FloatType(), True),\n",
        "        StructField(\"Negativity\", FloatType(), True),\n",
        "        StructField(\"Positivity\", FloatType(), True)\n",
        "    ])"
      ]
    },
    {
      "cell_type": "code",
      "execution_count": 215,
      "metadata": {
        "id": "8vRolt_rztZr"
      },
      "outputs": [],
      "source": [
        "df = spark.read.csv(\"/content/drive/MyDrive/data/Tech_Industry_consolidated.csv\", sep=',', schema = custom_schema, header=True)"
      ]
    },
    {
      "cell_type": "code",
      "source": [
        "df = df.dropna()\n",
        "df.show()"
      ],
      "metadata": {
        "colab": {
          "base_uri": "https://localhost:8080/"
        },
        "id": "7ovzvZNNtDbP",
        "outputId": "3bd33e97-ca19-4fce-a470-04d1afe3ebdf"
      },
      "execution_count": 216,
      "outputs": [
        {
          "output_type": "stream",
          "name": "stdout",
          "text": [
            "+---------+-----+-----+-----+-----+----------+----------+\n",
            "|     Date| Open| High|  Low|Close|Negativity|Positivity|\n",
            "+---------+-----+-----+-----+-----+----------+----------+\n",
            "| 4/1/2020|839.9|840.4|839.3|839.8|     12.71|     16.98|\n",
            "| 4/2/2020|837.1|837.8|836.6|837.1|     15.67|     15.28|\n",
            "| 4/3/2020|854.0|854.4|853.5|853.9|     15.75|     15.48|\n",
            "| 4/6/2020|857.0|857.4|856.6|857.0|     12.03|     11.66|\n",
            "| 4/7/2020|889.3|889.8|888.7|889.2|     12.46|     15.75|\n",
            "| 4/8/2020|878.6|879.0|878.2|878.6|     15.68|     15.53|\n",
            "| 4/9/2020|905.8|906.3|905.4|905.8|     13.43|     16.51|\n",
            "|4/13/2020|929.6|930.1|929.1|929.6|     14.07|     14.52|\n",
            "|4/15/2020|999.2|999.8|998.6|999.2|     12.82|     18.43|\n",
            "|4/21/2020|949.0|949.8|948.1|949.0|     12.28|     16.93|\n",
            "|4/22/2020|952.5|953.0|952.0|952.5|     14.26|     15.48|\n",
            "|4/24/2020|954.5|954.9|954.1|954.5|     11.82|     16.67|\n",
            "|4/27/2020|992.1|992.5|991.6|992.1|      9.13|     10.46|\n",
            "|4/28/2020|984.0|984.6|983.4|984.0|     13.59|     13.47|\n",
            "|5/27/2020|987.6|988.1|987.1|987.6|     13.09|     14.78|\n",
            "|5/28/2020|995.6|996.0|995.2|995.6|      13.7|     12.59|\n",
            "+---------+-----+-----+-----+-----+----------+----------+\n",
            "\n"
          ]
        }
      ]
    },
    {
      "cell_type": "code",
      "source": [
        "from pyspark.ml.linalg import Vector  \n",
        "from pyspark.ml.feature import VectorAssembler"
      ],
      "metadata": {
        "id": "TBSKO2SguTex"
      },
      "execution_count": 217,
      "outputs": []
    },
    {
      "cell_type": "code",
      "source": [
        "vector_assmebler=VectorAssembler(inputCols=['Negativity', 'Positivity'] \n",
        "                                ,outputCol='features')\n",
        "df_transformed=vector_assmebler.transform(df)\n",
        "\n",
        "df_transformed.show()"
      ],
      "metadata": {
        "colab": {
          "base_uri": "https://localhost:8080/"
        },
        "id": "XXQ-FcW2uWwh",
        "outputId": "53b40c03-7876-4e96-dd23-1ad515e1359f"
      },
      "execution_count": 218,
      "outputs": [
        {
          "output_type": "stream",
          "name": "stdout",
          "text": [
            "+---------+-----+-----+-----+-----+----------+----------+--------------------+\n",
            "|     Date| Open| High|  Low|Close|Negativity|Positivity|            features|\n",
            "+---------+-----+-----+-----+-----+----------+----------+--------------------+\n",
            "| 4/1/2020|839.9|840.4|839.3|839.8|     12.71|     16.98|[12.7100000381469...|\n",
            "| 4/2/2020|837.1|837.8|836.6|837.1|     15.67|     15.28|[15.6700000762939...|\n",
            "| 4/3/2020|854.0|854.4|853.5|853.9|     15.75|     15.48|[15.75,15.4799995...|\n",
            "| 4/6/2020|857.0|857.4|856.6|857.0|     12.03|     11.66|[12.0299997329711...|\n",
            "| 4/7/2020|889.3|889.8|888.7|889.2|     12.46|     15.75|[12.4600000381469...|\n",
            "| 4/8/2020|878.6|879.0|878.2|878.6|     15.68|     15.53|[15.6800003051757...|\n",
            "| 4/9/2020|905.8|906.3|905.4|905.8|     13.43|     16.51|[13.4300003051757...|\n",
            "|4/13/2020|929.6|930.1|929.1|929.6|     14.07|     14.52|[14.0699996948242...|\n",
            "|4/15/2020|999.2|999.8|998.6|999.2|     12.82|     18.43|[12.8199996948242...|\n",
            "|4/21/2020|949.0|949.8|948.1|949.0|     12.28|     16.93|[12.2799997329711...|\n",
            "|4/22/2020|952.5|953.0|952.0|952.5|     14.26|     15.48|[14.2600002288818...|\n",
            "|4/24/2020|954.5|954.9|954.1|954.5|     11.82|     16.67|[11.8199996948242...|\n",
            "|4/27/2020|992.1|992.5|991.6|992.1|      9.13|     10.46|[9.13000011444091...|\n",
            "|4/28/2020|984.0|984.6|983.4|984.0|     13.59|     13.47|[13.5900001525878...|\n",
            "|5/27/2020|987.6|988.1|987.1|987.6|     13.09|     14.78|[13.0900001525878...|\n",
            "|5/28/2020|995.6|996.0|995.2|995.6|      13.7|     12.59|[13.6999998092651...|\n",
            "+---------+-----+-----+-----+-----+----------+----------+--------------------+\n",
            "\n"
          ]
        }
      ]
    },
    {
      "cell_type": "code",
      "source": [
        "df_neg_model=df_transformed.select('features','Close')\n",
        "df_neg_model.show( truncate= False)"
      ],
      "metadata": {
        "colab": {
          "base_uri": "https://localhost:8080/"
        },
        "id": "PhNnBbGCu3x_",
        "outputId": "0d6ed8b9-9bab-4d31-d737-9606de6f935c"
      },
      "execution_count": 219,
      "outputs": [
        {
          "output_type": "stream",
          "name": "stdout",
          "text": [
            "+---------------------------------------+-----+\n",
            "|features                               |Close|\n",
            "+---------------------------------------+-----+\n",
            "|[12.710000038146973,16.979999542236328]|839.8|\n",
            "|[15.670000076293945,15.279999732971191]|837.1|\n",
            "|[15.75,15.479999542236328]             |853.9|\n",
            "|[12.029999732971191,11.65999984741211] |857.0|\n",
            "|[12.460000038146973,15.75]             |889.2|\n",
            "|[15.680000305175781,15.529999732971191]|878.6|\n",
            "|[13.430000305175781,16.510000228881836]|905.8|\n",
            "|[14.069999694824219,14.520000457763672]|929.6|\n",
            "|[12.819999694824219,18.43000030517578] |999.2|\n",
            "|[12.279999732971191,16.93000030517578] |949.0|\n",
            "|[14.260000228881836,15.479999542236328]|952.5|\n",
            "|[11.819999694824219,16.670000076293945]|954.5|\n",
            "|[9.130000114440918,10.460000038146973] |992.1|\n",
            "|[13.59000015258789,13.470000267028809] |984.0|\n",
            "|[13.09000015258789,14.779999732971191] |987.6|\n",
            "|[13.699999809265137,12.59000015258789] |995.6|\n",
            "+---------------------------------------+-----+\n",
            "\n"
          ]
        }
      ]
    },
    {
      "cell_type": "code",
      "source": [
        "(training, test) = df_neg_model.randomSplit([0.8, 0.2], seed = 1234)\n",
        "print (training.first())"
      ],
      "metadata": {
        "colab": {
          "base_uri": "https://localhost:8080/"
        },
        "id": "F0U0UuxJvDGy",
        "outputId": "92a6810a-93d4-4b8d-94e5-a37da59291ab"
      },
      "execution_count": 220,
      "outputs": [
        {
          "output_type": "stream",
          "name": "stdout",
          "text": [
            "Row(features=DenseVector([9.13, 10.46]), Close=992.0999755859375)\n"
          ]
        }
      ]
    },
    {
      "cell_type": "code",
      "source": [
        "#Linear regression model\n",
        "from pyspark.ml.regression import LinearRegression\n",
        "Linear_Regression=LinearRegression(labelCol='Close')\n",
        "regression = Linear_Regression.fit(training)"
      ],
      "metadata": {
        "id": "5xLWuoB7vH9x"
      },
      "execution_count": 221,
      "outputs": []
    },
    {
      "cell_type": "code",
      "source": [
        "print(f\"intercept: {regression.intercept}\")\n",
        "print(f\"coefficiencts: {regression.coefficients}\")"
      ],
      "metadata": {
        "colab": {
          "base_uri": "https://localhost:8080/"
        },
        "id": "OrcQBeclvKWn",
        "outputId": "bf10ff1f-3ad3-4567-f5f9-a6e723523839"
      },
      "execution_count": 222,
      "outputs": [
        {
          "output_type": "stream",
          "name": "stdout",
          "text": [
            "intercept: 1141.07137578496\n",
            "coefficiencts: [-16.343478459274024,0.301810121813221]\n"
          ]
        }
      ]
    },
    {
      "cell_type": "code",
      "source": [
        "training_predictions=regression.evaluate(training)\n",
        "\n",
        "print(\"Training R squared:\", training_predictions.r2)"
      ],
      "metadata": {
        "colab": {
          "base_uri": "https://localhost:8080/"
        },
        "id": "YnU-eEuWvWAJ",
        "outputId": "b410ce51-2231-46c5-d0f0-df9757d60147"
      },
      "execution_count": 223,
      "outputs": [
        {
          "output_type": "stream",
          "name": "stdout",
          "text": [
            "Training R squared: 0.20296121453774474\n"
          ]
        }
      ]
    },
    {
      "cell_type": "code",
      "source": [
        "test_prediction  = regression.evaluate(test)"
      ],
      "metadata": {
        "id": "eLkX-iRpvXmE"
      },
      "execution_count": 224,
      "outputs": []
    },
    {
      "cell_type": "code",
      "source": [
        "print(\"Testing MSE: \", test_prediction.meanSquaredError)\n",
        "print(\"Root Mean Square Error (RMSE) using Linear Regression: \", test_prediction.rootMeanSquaredError)"
      ],
      "metadata": {
        "colab": {
          "base_uri": "https://localhost:8080/"
        },
        "id": "mb64ASUJvZdq",
        "outputId": "56b03454-4d57-4e2c-82e5-2445f558509f"
      },
      "execution_count": 225,
      "outputs": [
        {
          "output_type": "stream",
          "name": "stdout",
          "text": [
            "Testing MSE:  1404.9560734500637\n",
            "Root Mean Square Error (RMSE) using Linear Regression:  37.48274367559109\n"
          ]
        }
      ]
    },
    {
      "cell_type": "code",
      "source": [
        "#Predictions \n",
        "df_prediction = test_prediction.predictions\n",
        "df_prediction.orderBy('prediction',ascending=False).show(10, truncate = False)"
      ],
      "metadata": {
        "colab": {
          "base_uri": "https://localhost:8080/"
        },
        "id": "uQmnJo2svbHU",
        "outputId": "5dea85d1-a5ee-4f9b-f502-818d37ce378c"
      },
      "execution_count": 226,
      "outputs": [
        {
          "output_type": "stream",
          "name": "stdout",
          "text": [
            "+---------------------------------------+-----+-----------------+\n",
            "|features                               |Close|prediction       |\n",
            "+---------------------------------------+-----+-----------------+\n",
            "|[11.819999694824219,16.670000076293945]|954.5|952.9226401376276|\n",
            "|[12.460000038146973,15.75]             |889.2|942.1851429775097|\n",
            "+---------------------------------------+-----+-----------------+\n",
            "\n"
          ]
        }
      ]
    },
    {
      "cell_type": "code",
      "source": [
        "from pyspark.ml.regression import DecisionTreeRegressor\n",
        "from pyspark.ml.evaluation import RegressionEvaluator\n",
        "dt = DecisionTreeRegressor(featuresCol ='features', labelCol = 'Close')\n",
        "dt_model = dt.fit(training)\n",
        "dt_predictions = dt_model.transform(test)\n",
        "dt_evaluator = RegressionEvaluator(labelCol=\"Close\", predictionCol=\"prediction\", metricName=\"rmse\")\n",
        "rmse = dt_evaluator.evaluate(dt_predictions)\n",
        "print(\"Root Mean Squared Error (RMSE) using Decision Tree Model = %g\" % rmse)"
      ],
      "metadata": {
        "colab": {
          "base_uri": "https://localhost:8080/"
        },
        "id": "WEzs_KgK2SuI",
        "outputId": "53a0c446-b834-4e86-e4f2-71bf6b97ae0c"
      },
      "execution_count": 227,
      "outputs": [
        {
          "output_type": "stream",
          "name": "stdout",
          "text": [
            "Root Mean Squared Error (RMSE) using Decision Tree Model = 80.8773\n"
          ]
        }
      ]
    },
    {
      "cell_type": "code",
      "source": [
        "from pyspark.ml.regression import GBTRegressor\n",
        "gbt = GBTRegressor(featuresCol = 'features', labelCol = 'Close', maxIter=10)\n",
        "gbt_model = gbt.fit(training)\n",
        "gbt_predictions = gbt_model.transform(test)\n",
        "gbt_predictions.select('prediction', 'Close', 'features').show(5)"
      ],
      "metadata": {
        "colab": {
          "base_uri": "https://localhost:8080/"
        },
        "id": "F8fdHIkx3D6Z",
        "outputId": "9d9fc515-4526-4498-f71b-184a88dbf549"
      },
      "execution_count": 228,
      "outputs": [
        {
          "output_type": "stream",
          "name": "stdout",
          "text": [
            "+----------+-----+--------------------+\n",
            "|prediction|Close|            features|\n",
            "+----------+-----+--------------------+\n",
            "|     857.0|954.5|[11.8199996948242...|\n",
            "|     949.0|889.2|[12.4600000381469...|\n",
            "+----------+-----+--------------------+\n",
            "\n"
          ]
        }
      ]
    },
    {
      "cell_type": "code",
      "source": [
        "gbt_evaluator = RegressionEvaluator(\n",
        "    labelCol=\"Close\", predictionCol=\"prediction\", metricName=\"rmse\")\n",
        "rmse = gbt_evaluator.evaluate(gbt_predictions)\n",
        "print(\"Root Mean Squared Error (RMSE) using Gradient Booting Decision Tree model = %g\" % rmse)"
      ],
      "metadata": {
        "colab": {
          "base_uri": "https://localhost:8080/"
        },
        "id": "qUsDNyC83HwB",
        "outputId": "7d1ae3b1-fed2-4c4c-f9ff-76469c57438c"
      },
      "execution_count": 229,
      "outputs": [
        {
          "output_type": "stream",
          "name": "stdout",
          "text": [
            "Root Mean Squared Error (RMSE) using Gradient Booting Decision Tree model = 80.8773\n"
          ]
        }
      ]
    }
  ],
  "metadata": {
    "colab": {
      "name": "ML_Algorithms_Tech.ipynb",
      "provenance": [],
      "collapsed_sections": []
    },
    "kernelspec": {
      "display_name": "Python 3",
      "name": "python3"
    },
    "language_info": {
      "name": "python"
    }
  },
  "nbformat": 4,
  "nbformat_minor": 0
}