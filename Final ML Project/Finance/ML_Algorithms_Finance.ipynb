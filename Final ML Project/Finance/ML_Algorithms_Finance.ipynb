{
  "cells": [
    {
      "cell_type": "code",
      "execution_count": 19,
      "metadata": {
        "id": "0Gv6H5OYzqkm"
      },
      "outputs": [],
      "source": [
        "# Spark init\n",
        "!wget -q https://dlcdn.apache.org/spark/spark-3.1.2/spark-3.1.2-bin-hadoop2.7.tgz \n",
        "!tar xf spark-3.1.2-bin-hadoop2.7.tgz\n",
        "import os\n",
        "os.environ[\"JAVA_HOME\"] = \"/usr/lib/jvm/default-java\"\n",
        "os.environ[\"SPARK_HOME\"] = \"/content/spark-3.1.2-bin-hadoop2.7\"\n",
        "!pip install -q findspark\n",
        "import findspark\n",
        "findspark.init()\n",
        "\n",
        "from pyspark.sql import SparkSession\n",
        "spark = SparkSession.builder\\\n",
        "        .master(\"local\")\\\n",
        "        .appName(\"Colab\")\\\n",
        "        .config('spark.ui.port', '4050')\\\n",
        "        .getOrCreate()"
      ]
    },
    {
      "cell_type": "code",
      "source": [
        "from google.colab import drive\n",
        "drive.mount('/content/drive')"
      ],
      "metadata": {
        "colab": {
          "base_uri": "https://localhost:8080/"
        },
        "id": "GrguJGUUQnO0",
        "outputId": "1b2bf834-ace6-4ab0-d7e0-559b50ea1c65"
      },
      "execution_count": 20,
      "outputs": [
        {
          "output_type": "stream",
          "name": "stdout",
          "text": [
            "Drive already mounted at /content/drive; to attempt to forcibly remount, call drive.mount(\"/content/drive\", force_remount=True).\n"
          ]
        }
      ]
    },
    {
      "cell_type": "code",
      "execution_count": 21,
      "metadata": {
        "id": "s0mQQjKlzsBM"
      },
      "outputs": [],
      "source": [
        "import pyspark\n",
        "from pyspark.sql.types import StructField\n",
        "from pyspark.sql.types import *\n",
        "\n",
        "custom_schema = StructType([\n",
        "        StructField(\"Date\", StringType(), True),\n",
        "        StructField(\"Open\", FloatType(), True),\n",
        "        StructField(\"High\", FloatType(), True),\n",
        "        StructField(\"Low\", FloatType(), True), \n",
        "        StructField(\"Close\", FloatType(), True),\n",
        "        StructField(\"Negativity\", FloatType(), True),\n",
        "        StructField(\"Positivity\", FloatType(), True)\n",
        "    ])"
      ]
    },
    {
      "cell_type": "code",
      "execution_count": 22,
      "metadata": {
        "id": "8vRolt_rztZr"
      },
      "outputs": [],
      "source": [
        "df = spark.read.csv(\"/content/drive/MyDrive/data/Finance_industry_consolidated.csv\", sep=',', schema = custom_schema, header=True)"
      ]
    },
    {
      "cell_type": "code",
      "source": [
        "df = df.dropna()\n",
        "df.show()"
      ],
      "metadata": {
        "colab": {
          "base_uri": "https://localhost:8080/"
        },
        "id": "7ovzvZNNtDbP",
        "outputId": "40965734-435d-4d4b-cd9d-934766221f9d"
      },
      "execution_count": 23,
      "outputs": [
        {
          "output_type": "stream",
          "name": "stdout",
          "text": [
            "+---------+-----+-----+-----+-----+----------+----------+\n",
            "|     Date| Open| High|  Low|Close|Negativity|Positivity|\n",
            "+---------+-----+-----+-----+-----+----------+----------+\n",
            "| 4/2/2020| 38.4| 38.5| 38.4| 38.4|      15.7|      15.3|\n",
            "| 4/3/2020|119.2|119.3|119.1|119.2|      15.7|      15.5|\n",
            "| 4/6/2020|129.7|129.8|129.6|129.7|      12.0|      11.7|\n",
            "| 4/7/2020|144.3|144.5|144.2|144.3|      12.5|      15.8|\n",
            "| 4/8/2020|138.1|138.2|138.0|138.1|      15.7|      15.5|\n",
            "| 4/9/2020|137.5|137.6|137.4|137.5|      13.4|      16.5|\n",
            "|4/13/2020|135.7|135.8|135.6|135.7|      14.1|      14.5|\n",
            "|4/14/2020|136.4|136.5|136.3|136.4|      12.0|      14.8|\n",
            "|4/15/2020|133.3|133.4|133.2|133.3|      12.8|      18.4|\n",
            "|4/16/2020|131.8|131.8|131.7|131.8|      21.1|      21.7|\n",
            "|4/17/2020|132.6|132.7|132.5|132.6|      22.7|      33.2|\n",
            "|4/20/2020|128.5|128.6|128.4|128.5|      10.9|      12.0|\n",
            "|4/21/2020|123.8|123.8|123.7|123.8|      12.3|      16.9|\n",
            "|4/22/2020|131.9|132.0|131.8|131.9|      14.3|      15.5|\n",
            "|4/23/2020|135.1|135.2|135.0|135.1|      11.4|      14.3|\n",
            "|4/24/2020|133.8|133.9|133.8|133.9|      11.8|      16.7|\n",
            "|4/27/2020|137.6|137.7|137.6|137.6|       9.1|      10.5|\n",
            "|4/28/2020|136.4|136.5|136.3|136.4|      13.6|      13.5|\n",
            "|4/29/2020|149.2|149.3|149.1|149.2|      12.2|      14.7|\n",
            "|4/30/2020|143.6|143.7|143.5|143.6|      12.7|      17.6|\n",
            "+---------+-----+-----+-----+-----+----------+----------+\n",
            "only showing top 20 rows\n",
            "\n"
          ]
        }
      ]
    },
    {
      "cell_type": "code",
      "source": [
        "from pyspark.ml.linalg import Vector  \n",
        "from pyspark.ml.feature import VectorAssembler"
      ],
      "metadata": {
        "id": "TBSKO2SguTex"
      },
      "execution_count": 24,
      "outputs": []
    },
    {
      "cell_type": "code",
      "source": [
        "vector_assmebler=VectorAssembler(inputCols=['Open', 'High', 'Low', 'Close'] \n",
        "                                ,outputCol='features')\n",
        "df_transformed=vector_assmebler.transform(df)\n",
        "\n",
        "df_transformed.show()"
      ],
      "metadata": {
        "colab": {
          "base_uri": "https://localhost:8080/"
        },
        "id": "XXQ-FcW2uWwh",
        "outputId": "1dfcb317-ea31-43b5-abbe-b382b0643d03"
      },
      "execution_count": 25,
      "outputs": [
        {
          "output_type": "stream",
          "name": "stdout",
          "text": [
            "+---------+-----+-----+-----+-----+----------+----------+--------------------+\n",
            "|     Date| Open| High|  Low|Close|Negativity|Positivity|            features|\n",
            "+---------+-----+-----+-----+-----+----------+----------+--------------------+\n",
            "| 4/2/2020| 38.4| 38.5| 38.4| 38.4|      15.7|      15.3|[38.4000015258789...|\n",
            "| 4/3/2020|119.2|119.3|119.1|119.2|      15.7|      15.5|[119.199996948242...|\n",
            "| 4/6/2020|129.7|129.8|129.6|129.7|      12.0|      11.7|[129.699996948242...|\n",
            "| 4/7/2020|144.3|144.5|144.2|144.3|      12.5|      15.8|[144.300003051757...|\n",
            "| 4/8/2020|138.1|138.2|138.0|138.1|      15.7|      15.5|[138.100006103515...|\n",
            "| 4/9/2020|137.5|137.6|137.4|137.5|      13.4|      16.5|[137.5,137.600006...|\n",
            "|4/13/2020|135.7|135.8|135.6|135.7|      14.1|      14.5|[135.699996948242...|\n",
            "|4/14/2020|136.4|136.5|136.3|136.4|      12.0|      14.8|[136.399993896484...|\n",
            "|4/15/2020|133.3|133.4|133.2|133.3|      12.8|      18.4|[133.300003051757...|\n",
            "|4/16/2020|131.8|131.8|131.7|131.8|      21.1|      21.7|[131.800003051757...|\n",
            "|4/17/2020|132.6|132.7|132.5|132.6|      22.7|      33.2|[132.600006103515...|\n",
            "|4/20/2020|128.5|128.6|128.4|128.5|      10.9|      12.0|[128.5,128.600006...|\n",
            "|4/21/2020|123.8|123.8|123.7|123.8|      12.3|      16.9|[123.800003051757...|\n",
            "|4/22/2020|131.9|132.0|131.8|131.9|      14.3|      15.5|[131.899993896484...|\n",
            "|4/23/2020|135.1|135.2|135.0|135.1|      11.4|      14.3|[135.100006103515...|\n",
            "|4/24/2020|133.8|133.9|133.8|133.9|      11.8|      16.7|[133.800003051757...|\n",
            "|4/27/2020|137.6|137.7|137.6|137.6|       9.1|      10.5|[137.600006103515...|\n",
            "|4/28/2020|136.4|136.5|136.3|136.4|      13.6|      13.5|[136.399993896484...|\n",
            "|4/29/2020|149.2|149.3|149.1|149.2|      12.2|      14.7|[149.199996948242...|\n",
            "|4/30/2020|143.6|143.7|143.5|143.6|      12.7|      17.6|[143.600006103515...|\n",
            "+---------+-----+-----+-----+-----+----------+----------+--------------------+\n",
            "only showing top 20 rows\n",
            "\n"
          ]
        }
      ]
    },
    {
      "cell_type": "code",
      "source": [
        "df_neg_model=df_transformed.select('features','Negativity')\n",
        "df_neg_model.show( truncate= False)"
      ],
      "metadata": {
        "colab": {
          "base_uri": "https://localhost:8080/"
        },
        "id": "PhNnBbGCu3x_",
        "outputId": "ed0d643d-2ab8-4348-9352-4898f296d559"
      },
      "execution_count": 26,
      "outputs": [
        {
          "output_type": "stream",
          "name": "stdout",
          "text": [
            "+-----------------------------------------------------------------------------+----------+\n",
            "|features                                                                     |Negativity|\n",
            "+-----------------------------------------------------------------------------+----------+\n",
            "|[38.400001525878906,38.5,38.400001525878906,38.400001525878906]              |15.7      |\n",
            "|[119.19999694824219,119.30000305175781,119.0999984741211,119.19999694824219] |15.7      |\n",
            "|[129.6999969482422,129.8000030517578,129.60000610351562,129.6999969482422]   |12.0      |\n",
            "|[144.3000030517578,144.5,144.1999969482422,144.3000030517578]                |12.5      |\n",
            "|[138.10000610351562,138.1999969482422,138.0,138.10000610351562]              |15.7      |\n",
            "|[137.5,137.60000610351562,137.39999389648438,137.5]                          |13.4      |\n",
            "|[135.6999969482422,135.8000030517578,135.60000610351562,135.6999969482422]   |14.1      |\n",
            "|[136.39999389648438,136.5,136.3000030517578,136.39999389648438]              |12.0      |\n",
            "|[133.3000030517578,133.39999389648438,133.1999969482422,133.3000030517578]   |12.8      |\n",
            "|[131.8000030517578,131.8000030517578,131.6999969482422,131.8000030517578]    |21.1      |\n",
            "|[132.60000610351562,132.6999969482422,132.5,132.60000610351562]              |22.7      |\n",
            "|[128.5,128.60000610351562,128.39999389648438,128.5]                          |10.9      |\n",
            "|[123.80000305175781,123.80000305175781,123.69999694824219,123.80000305175781]|12.3      |\n",
            "|[131.89999389648438,132.0,131.8000030517578,131.89999389648438]              |14.3      |\n",
            "|[135.10000610351562,135.1999969482422,135.0,135.10000610351562]              |11.4      |\n",
            "|[133.8000030517578,133.89999389648438,133.8000030517578,133.89999389648438]  |11.8      |\n",
            "|[137.60000610351562,137.6999969482422,137.60000610351562,137.60000610351562] |9.1       |\n",
            "|[136.39999389648438,136.5,136.3000030517578,136.39999389648438]              |13.6      |\n",
            "|[149.1999969482422,149.3000030517578,149.10000610351562,149.1999969482422]   |12.2      |\n",
            "|[143.60000610351562,143.6999969482422,143.5,143.60000610351562]              |12.7      |\n",
            "+-----------------------------------------------------------------------------+----------+\n",
            "only showing top 20 rows\n",
            "\n"
          ]
        }
      ]
    },
    {
      "cell_type": "code",
      "source": [
        "df_pos_model=df_transformed.select('features','Positivity')\n",
        "df_pos_model.show( truncate= False)"
      ],
      "metadata": {
        "colab": {
          "base_uri": "https://localhost:8080/"
        },
        "id": "c2_6e9yNu9ty",
        "outputId": "737a8883-6864-43a9-f6a8-7deece8a410e"
      },
      "execution_count": 27,
      "outputs": [
        {
          "output_type": "stream",
          "name": "stdout",
          "text": [
            "+-----------------------------------------------------------------------------+----------+\n",
            "|features                                                                     |Positivity|\n",
            "+-----------------------------------------------------------------------------+----------+\n",
            "|[38.400001525878906,38.5,38.400001525878906,38.400001525878906]              |15.3      |\n",
            "|[119.19999694824219,119.30000305175781,119.0999984741211,119.19999694824219] |15.5      |\n",
            "|[129.6999969482422,129.8000030517578,129.60000610351562,129.6999969482422]   |11.7      |\n",
            "|[144.3000030517578,144.5,144.1999969482422,144.3000030517578]                |15.8      |\n",
            "|[138.10000610351562,138.1999969482422,138.0,138.10000610351562]              |15.5      |\n",
            "|[137.5,137.60000610351562,137.39999389648438,137.5]                          |16.5      |\n",
            "|[135.6999969482422,135.8000030517578,135.60000610351562,135.6999969482422]   |14.5      |\n",
            "|[136.39999389648438,136.5,136.3000030517578,136.39999389648438]              |14.8      |\n",
            "|[133.3000030517578,133.39999389648438,133.1999969482422,133.3000030517578]   |18.4      |\n",
            "|[131.8000030517578,131.8000030517578,131.6999969482422,131.8000030517578]    |21.7      |\n",
            "|[132.60000610351562,132.6999969482422,132.5,132.60000610351562]              |33.2      |\n",
            "|[128.5,128.60000610351562,128.39999389648438,128.5]                          |12.0      |\n",
            "|[123.80000305175781,123.80000305175781,123.69999694824219,123.80000305175781]|16.9      |\n",
            "|[131.89999389648438,132.0,131.8000030517578,131.89999389648438]              |15.5      |\n",
            "|[135.10000610351562,135.1999969482422,135.0,135.10000610351562]              |14.3      |\n",
            "|[133.8000030517578,133.89999389648438,133.8000030517578,133.89999389648438]  |16.7      |\n",
            "|[137.60000610351562,137.6999969482422,137.60000610351562,137.60000610351562] |10.5      |\n",
            "|[136.39999389648438,136.5,136.3000030517578,136.39999389648438]              |13.5      |\n",
            "|[149.1999969482422,149.3000030517578,149.10000610351562,149.1999969482422]   |14.7      |\n",
            "|[143.60000610351562,143.6999969482422,143.5,143.60000610351562]              |17.6      |\n",
            "+-----------------------------------------------------------------------------+----------+\n",
            "only showing top 20 rows\n",
            "\n"
          ]
        }
      ]
    },
    {
      "cell_type": "code",
      "source": [
        "(training, test) = df_neg_model.randomSplit([0.8, 0.2], seed = 1234)\n",
        "print (training.first())"
      ],
      "metadata": {
        "colab": {
          "base_uri": "https://localhost:8080/"
        },
        "id": "F0U0UuxJvDGy",
        "outputId": "e209f5a2-2550-43a0-c0ab-2558f4c11800"
      },
      "execution_count": 28,
      "outputs": [
        {
          "output_type": "stream",
          "name": "stdout",
          "text": [
            "Row(features=DenseVector([38.4, 38.5, 38.4, 38.4]), Negativity=15.699999809265137)\n"
          ]
        }
      ]
    },
    {
      "cell_type": "code",
      "source": [
        "#Linear regression model\n",
        "from pyspark.ml.regression import LinearRegression\n",
        "Linear_Regression=LinearRegression(labelCol='Negativity')\n",
        "regression = Linear_Regression.fit(training)"
      ],
      "metadata": {
        "id": "5xLWuoB7vH9x"
      },
      "execution_count": 29,
      "outputs": []
    },
    {
      "cell_type": "code",
      "source": [
        "print(f\"intercept: {regression.intercept}\")\n",
        "print(f\"coefficiencts: {regression.coefficients}\")"
      ],
      "metadata": {
        "colab": {
          "base_uri": "https://localhost:8080/"
        },
        "id": "OrcQBeclvKWn",
        "outputId": "13272414-462d-466d-e7fb-55f8bac180f8"
      },
      "execution_count": 30,
      "outputs": [
        {
          "output_type": "stream",
          "name": "stdout",
          "text": [
            "intercept: 15.329727057615207\n",
            "coefficiencts: [0.03847862667219166,-3.944818926548029,-5.010474844323829,8.896465244640801]\n"
          ]
        }
      ]
    },
    {
      "cell_type": "code",
      "source": [
        "training_predictions=regression.evaluate(training)\n",
        "\n",
        "print(\"Training R squared:\", training_predictions.r2)"
      ],
      "metadata": {
        "colab": {
          "base_uri": "https://localhost:8080/"
        },
        "id": "YnU-eEuWvWAJ",
        "outputId": "99e993ae-a2de-401c-c44c-33df1c793175"
      },
      "execution_count": 31,
      "outputs": [
        {
          "output_type": "stream",
          "name": "stdout",
          "text": [
            "Training R squared: 0.05668574059551579\n"
          ]
        }
      ]
    },
    {
      "cell_type": "code",
      "source": [
        "test_prediction  = regression.evaluate(test)"
      ],
      "metadata": {
        "id": "eLkX-iRpvXmE"
      },
      "execution_count": 32,
      "outputs": []
    },
    {
      "cell_type": "code",
      "source": [
        "print(\"Testing MSE: \", test_prediction.meanSquaredError)"
      ],
      "metadata": {
        "colab": {
          "base_uri": "https://localhost:8080/"
        },
        "id": "mb64ASUJvZdq",
        "outputId": "2fd81320-7fe8-4116-a080-376b8007392f"
      },
      "execution_count": 33,
      "outputs": [
        {
          "output_type": "stream",
          "name": "stdout",
          "text": [
            "Testing MSE:  5.349744448151289\n"
          ]
        }
      ]
    },
    {
      "cell_type": "code",
      "source": [
        "#Predictions \n",
        "df_prediction = test_prediction.predictions\n",
        "df_prediction.orderBy('prediction',ascending=False).show(10, truncate = False)"
      ],
      "metadata": {
        "colab": {
          "base_uri": "https://localhost:8080/"
        },
        "id": "uQmnJo2svbHU",
        "outputId": "0c866277-1a71-4413-afd8-c7e170189ee9"
      },
      "execution_count": 34,
      "outputs": [
        {
          "output_type": "stream",
          "name": "stdout",
          "text": [
            "+----------------------------------------------------------------------------+----------+------------------+\n",
            "|features                                                                    |Negativity|prediction        |\n",
            "+----------------------------------------------------------------------------+----------+------------------+\n",
            "|[119.19999694824219,119.30000305175781,119.0999984741211,119.19999694824219]|15.7      |13.010552961437304|\n",
            "|[147.39999389648438,147.39999389648438,147.3000030517578,147.39999389648438]|14.1      |12.831153599009701|\n",
            "|[129.6999969482422,129.8000030517578,129.60000610351562,129.6999969482422]  |12.0      |12.79684078917993 |\n",
            "|[151.89999389648438,151.89999389648438,151.8000030517578,151.89999389648438]|12.6      |12.739579050994768|\n",
            "|[152.10000610351562,152.10000610351562,152.0,152.10000610351562]            |12.7      |12.735585276449944|\n",
            "|[153.5,153.5,153.39999389648438,153.5]                                      |11.4      |12.707095541273281|\n",
            "|[137.39999389648438,137.5,137.3000030517578,137.39999389648438]             |11.6      |12.64014662467938 |\n",
            "|[137.6999969482422,137.8000030517578,137.60000610351562,137.6999969482422]  |10.7      |12.63404159270866 |\n",
            "|[137.6999969482422,137.8000030517578,137.60000610351562,137.6999969482422]  |16.0      |12.63404159270866 |\n",
            "|[138.10000610351562,138.1999969482422,138.0,138.10000610351562]             |15.7      |12.626038093514842|\n",
            "+----------------------------------------------------------------------------+----------+------------------+\n",
            "only showing top 10 rows\n",
            "\n"
          ]
        }
      ]
    },
    {
      "cell_type": "code",
      "source": [
        "from pyspark.ml.regression import DecisionTreeRegressor\n",
        "from pyspark.ml.evaluation import RegressionEvaluator\n",
        "dt = DecisionTreeRegressor(featuresCol ='features', labelCol = 'Negativity')\n",
        "dt_model = dt.fit(training)\n",
        "dt_predictions = dt_model.transform(test)\n",
        "dt_evaluator = RegressionEvaluator(labelCol=\"Negativity\", predictionCol=\"prediction\", metricName=\"rmse\")\n",
        "rmse = dt_evaluator.evaluate(dt_predictions)\n",
        "print(\"Root Mean Squared Error (RMSE) on negative test data = %g\" % rmse)"
      ],
      "metadata": {
        "colab": {
          "base_uri": "https://localhost:8080/"
        },
        "id": "WEzs_KgK2SuI",
        "outputId": "27353941-9c79-4d4b-fb53-463e17b7491b"
      },
      "execution_count": 35,
      "outputs": [
        {
          "output_type": "stream",
          "name": "stdout",
          "text": [
            "Root Mean Squared Error (RMSE) on negative test data = 2.29333\n"
          ]
        }
      ]
    },
    {
      "cell_type": "code",
      "source": [
        "from pyspark.ml.regression import GBTRegressor\n",
        "gbt = GBTRegressor(featuresCol = 'features', labelCol = 'Negativity', maxIter=10)\n",
        "gbt_model = gbt.fit(training)\n",
        "gbt_predictions = gbt_model.transform(test)\n",
        "gbt_predictions.select('prediction', 'Negativity', 'features').show(5)"
      ],
      "metadata": {
        "colab": {
          "base_uri": "https://localhost:8080/"
        },
        "id": "F8fdHIkx3D6Z",
        "outputId": "37810fc9-cd9a-412e-ce91-53278c4833cb"
      },
      "execution_count": 36,
      "outputs": [
        {
          "output_type": "stream",
          "name": "stdout",
          "text": [
            "+------------------+----------+--------------------+\n",
            "|        prediction|Negativity|            features|\n",
            "+------------------+----------+--------------------+\n",
            "|14.127029355596385|      15.7|[119.199996948242...|\n",
            "|14.127029355596385|      12.0|[129.699996948242...|\n",
            "| 11.95657473066898|      11.6|[137.399993896484...|\n",
            "| 11.95657473066898|      10.7|[137.699996948242...|\n",
            "| 11.95657473066898|      16.0|[137.699996948242...|\n",
            "+------------------+----------+--------------------+\n",
            "only showing top 5 rows\n",
            "\n"
          ]
        }
      ]
    },
    {
      "cell_type": "code",
      "source": [
        "gbt_evaluator = RegressionEvaluator(\n",
        "    labelCol=\"Negativity\", predictionCol=\"prediction\", metricName=\"rmse\")\n",
        "rmse = gbt_evaluator.evaluate(gbt_predictions)\n",
        "print(\"Root Mean Squared Error (RMSE) on negative test data = %g\" % rmse)"
      ],
      "metadata": {
        "colab": {
          "base_uri": "https://localhost:8080/"
        },
        "id": "qUsDNyC83HwB",
        "outputId": "5bdee604-da2f-410c-e5c8-22e71fb27050"
      },
      "execution_count": 37,
      "outputs": [
        {
          "output_type": "stream",
          "name": "stdout",
          "text": [
            "Root Mean Squared Error (RMSE) on negative test data = 2.33668\n"
          ]
        }
      ]
    },
    {
      "cell_type": "code",
      "source": [
        "(training, test) = df_pos_model.randomSplit([0.8, 0.2], seed = 1234)\n",
        "print (training.first())"
      ],
      "metadata": {
        "colab": {
          "base_uri": "https://localhost:8080/"
        },
        "id": "V_QfEg1Yvfm4",
        "outputId": "b4212070-9f7f-4975-b04e-934e3b18d94c"
      },
      "execution_count": 38,
      "outputs": [
        {
          "output_type": "stream",
          "name": "stdout",
          "text": [
            "Row(features=DenseVector([38.4, 38.5, 38.4, 38.4]), Positivity=15.300000190734863)\n"
          ]
        }
      ]
    },
    {
      "cell_type": "code",
      "source": [
        "#Linear regression model\n",
        "from pyspark.ml.regression import LinearRegression\n",
        "Linear_Regression=LinearRegression(labelCol='Positivity')\n",
        "regression = Linear_Regression.fit(training)"
      ],
      "metadata": {
        "id": "Jr11IKDdvfpn"
      },
      "execution_count": 39,
      "outputs": []
    },
    {
      "cell_type": "code",
      "source": [
        "print(f\"intercept: {regression.intercept}\")\n",
        "print(f\"coefficiencts: {regression.coefficients}\")"
      ],
      "metadata": {
        "colab": {
          "base_uri": "https://localhost:8080/"
        },
        "id": "Mq-lVgdYvfsi",
        "outputId": "6e12451a-9fdb-49c2-c433-0dd1acbc23d7"
      },
      "execution_count": 40,
      "outputs": [
        {
          "output_type": "stream",
          "name": "stdout",
          "text": [
            "intercept: 15.124311079803125\n",
            "coefficiencts: [4.507992847177579,-0.09980922453324602,1.396303737353174,-5.813558554808753]\n"
          ]
        }
      ]
    },
    {
      "cell_type": "code",
      "source": [
        "training_predictions=regression.evaluate(training)\n",
        "\n",
        "print(\"Training R squared:\", training_predictions.r2)"
      ],
      "metadata": {
        "colab": {
          "base_uri": "https://localhost:8080/"
        },
        "id": "14cMmth3vfvf",
        "outputId": "c0341d22-d20e-40b7-c125-8baced087274"
      },
      "execution_count": 41,
      "outputs": [
        {
          "output_type": "stream",
          "name": "stdout",
          "text": [
            "Training R squared: 0.003804751746369406\n"
          ]
        }
      ]
    },
    {
      "cell_type": "code",
      "source": [
        "test_prediction  = regression.evaluate(test)"
      ],
      "metadata": {
        "id": "gKB650W6vf3K"
      },
      "execution_count": 42,
      "outputs": []
    },
    {
      "cell_type": "code",
      "source": [
        "print(\"Testing MSE: \", test_prediction.meanSquaredError)"
      ],
      "metadata": {
        "colab": {
          "base_uri": "https://localhost:8080/"
        },
        "id": "xmLkB_flvv-v",
        "outputId": "0c3c680e-bc47-4926-930b-d855d2e3ef7e"
      },
      "execution_count": 43,
      "outputs": [
        {
          "output_type": "stream",
          "name": "stdout",
          "text": [
            "Testing MSE:  5.465836408626888\n"
          ]
        }
      ]
    },
    {
      "cell_type": "code",
      "source": [
        "#Predictions \n",
        "df_prediction = test_prediction.predictions\n",
        "df_prediction.orderBy('prediction',ascending=False).show(10, truncate = False)"
      ],
      "metadata": {
        "colab": {
          "base_uri": "https://localhost:8080/"
        },
        "id": "YnKSGNSCvyME",
        "outputId": "d9f9b969-f64e-45c7-9fa6-4b309e05fc0f"
      },
      "execution_count": 44,
      "outputs": [
        {
          "output_type": "stream",
          "name": "stdout",
          "text": [
            "+----------------------------------------------------------------------------+----------+------------------+\n",
            "|features                                                                    |Positivity|prediction        |\n",
            "+----------------------------------------------------------------------------+----------+------------------+\n",
            "|[119.19999694824219,119.30000305175781,119.0999984741211,119.19999694824219]|15.5      |13.893414911200399|\n",
            "|[129.6999969482422,129.8000030517578,129.60000610351562,129.6999969482422]  |11.7      |13.79817801863435 |\n",
            "|[183.6999969482422,183.8000030517578,183.5,183.60000610351562]              |16.6      |13.74999723349281 |\n",
            "|[137.39999389648438,137.5,137.3000030517578,137.39999389648438]             |14.7      |13.7283298462708  |\n",
            "|[137.6999969482422,137.8000030517578,137.60000610351562,137.6999969482422]  |13.5      |13.725608460144304|\n",
            "|[137.6999969482422,137.8000030517578,137.60000610351562,137.6999969482422]  |16.5      |13.725608460144304|\n",
            "|[138.10000610351562,138.1999969482422,138.0,138.10000610351562]             |15.5      |13.721960116234346|\n",
            "|[140.0,140.10000610351562,139.89999389648438,140.0]                         |14.8      |13.7047233784911  |\n",
            "|[204.10000610351562,204.1999969482422,204.0,204.0]                          |17.1      |13.704652597318432|\n",
            "|[156.3000030517578,156.39999389648438,156.3000030517578,156.3000030517578]  |10.0      |13.696503294449645|\n",
            "+----------------------------------------------------------------------------+----------+------------------+\n",
            "only showing top 10 rows\n",
            "\n"
          ]
        }
      ]
    },
    {
      "cell_type": "code",
      "source": [
        "from pyspark.ml.regression import DecisionTreeRegressor\n",
        "from pyspark.ml.evaluation import RegressionEvaluator\n",
        "dt = DecisionTreeRegressor(featuresCol ='features', labelCol = 'Positivity')\n",
        "dt_model = dt.fit(training)\n",
        "dt_predictions = dt_model.transform(test)\n",
        "dt_evaluator = RegressionEvaluator(labelCol=\"Positivity\", predictionCol=\"prediction\", metricName=\"rmse\")\n",
        "rmse = dt_evaluator.evaluate(dt_predictions)\n",
        "print(\"Root Mean Squared Error (RMSE) on positive test data = %g\" % rmse)"
      ],
      "metadata": {
        "colab": {
          "base_uri": "https://localhost:8080/"
        },
        "id": "pxhvLAU-0twM",
        "outputId": "bbf8931d-3354-4fd8-fb0e-8720f96651ed"
      },
      "execution_count": 45,
      "outputs": [
        {
          "output_type": "stream",
          "name": "stdout",
          "text": [
            "Root Mean Squared Error (RMSE) on positive test data = 2.35281\n"
          ]
        }
      ]
    },
    {
      "cell_type": "code",
      "source": [
        "from pyspark.ml.regression import GBTRegressor\n",
        "gbt = GBTRegressor(featuresCol = 'features', labelCol = 'Positivity', maxIter=10)\n",
        "gbt_model = gbt.fit(training)\n",
        "gbt_predictions = gbt_model.transform(test)\n",
        "gbt_predictions.select('prediction', 'Positivity', 'features').show(5)"
      ],
      "metadata": {
        "colab": {
          "base_uri": "https://localhost:8080/"
        },
        "id": "jaFt0zln217c",
        "outputId": "f1da93f5-da6f-4729-e73d-0898ea4b2087"
      },
      "execution_count": 46,
      "outputs": [
        {
          "output_type": "stream",
          "name": "stdout",
          "text": [
            "+-----------------+----------+--------------------+\n",
            "|       prediction|Positivity|            features|\n",
            "+-----------------+----------+--------------------+\n",
            "|17.06882772393525|      15.5|[119.199996948242...|\n",
            "|17.06882772393525|      11.7|[129.699996948242...|\n",
            "|13.61524709223899|      14.7|[137.399993896484...|\n",
            "|13.61524709223899|      13.5|[137.699996948242...|\n",
            "|13.61524709223899|      16.5|[137.699996948242...|\n",
            "+-----------------+----------+--------------------+\n",
            "only showing top 5 rows\n",
            "\n"
          ]
        }
      ]
    },
    {
      "cell_type": "code",
      "source": [
        "gbt_evaluator = RegressionEvaluator(\n",
        "    labelCol=\"Positivity\", predictionCol=\"prediction\", metricName=\"rmse\")\n",
        "rmse = gbt_evaluator.evaluate(gbt_predictions)\n",
        "print(\"Root Mean Squared Error (RMSE) on positive test data = %g\" % rmse)"
      ],
      "metadata": {
        "colab": {
          "base_uri": "https://localhost:8080/"
        },
        "id": "J3LsBbac29gH",
        "outputId": "63705fc6-3eb9-4559-a08b-532cae8c77a9"
      },
      "execution_count": 47,
      "outputs": [
        {
          "output_type": "stream",
          "name": "stdout",
          "text": [
            "Root Mean Squared Error (RMSE) on positive test data = 2.39576\n"
          ]
        }
      ]
    }
  ],
  "metadata": {
    "colab": {
      "name": "ML_Algorithms_Finance.ipynb",
      "provenance": [],
      "collapsed_sections": []
    },
    "kernelspec": {
      "display_name": "Python 3",
      "name": "python3"
    },
    "language_info": {
      "name": "python"
    }
  },
  "nbformat": 4,
  "nbformat_minor": 0
}